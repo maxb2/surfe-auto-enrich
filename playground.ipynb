{
 "cells": [
  {
   "cell_type": "code",
   "execution_count": 1,
   "id": "5cff175d",
   "metadata": {},
   "outputs": [],
   "source": [
    "from surfe_auto_enrich.operations import enrich, read_csv\n",
    "import polars as pl"
   ]
  },
  {
   "cell_type": "code",
   "execution_count": 2,
   "id": "f7303f94",
   "metadata": {},
   "outputs": [
    {
     "data": {
      "text/html": [
       "<pre style=\"white-space:pre;overflow-x:auto;line-height:normal;font-family:Menlo,'DejaVu Sans Mono',consolas,'Courier New',monospace\">Successfully submitted <span style=\"color: #008080; text-decoration-color: #008080; font-weight: bold\">20250507</span> test data for matt.csv!\n",
       "</pre>\n"
      ],
      "text/plain": [
       "Successfully submitted \u001b[1;36m20250507\u001b[0m test data for matt.csv!\n"
      ]
     },
     "metadata": {},
     "output_type": "display_data"
    },
    {
     "data": {
      "text/html": [
       "<pre style=\"white-space:pre;overflow-x:auto;line-height:normal;font-family:Menlo,'DejaVu Sans Mono',consolas,'Courier New',monospace\"><span style=\"font-weight: bold\">{</span>\n",
       "    <span style=\"color: #008000; text-decoration-color: #008000\">'message'</span>: <span style=\"color: #008000; text-decoration-color: #008000\">'Your enrichment has started ✨, estimated time: 1m40s.'</span>,\n",
       "    <span style=\"color: #008000; text-decoration-color: #008000\">'enrichmentID'</span>: <span style=\"color: #008000; text-decoration-color: #008000\">'0196ab4d-3f15-7e73-a392-9fdd9af84525'</span>,\n",
       "    <span style=\"color: #008000; text-decoration-color: #008000\">'enrichmentCallbackURL'</span>: <span style=\"color: #008000; text-decoration-color: #008000\">'https://api.surfe.com/v2/people/enrich/0196ab4d-3f15-7e73-a392-9fdd9af84525'</span>\n",
       "<span style=\"font-weight: bold\">}</span>\n",
       "</pre>\n"
      ],
      "text/plain": [
       "\u001b[1m{\u001b[0m\n",
       "    \u001b[32m'message'\u001b[0m: \u001b[32m'Your enrichment has started ✨, estimated time: 1m40s.'\u001b[0m,\n",
       "    \u001b[32m'enrichmentID'\u001b[0m: \u001b[32m'0196ab4d-3f15-7e73-a392-9fdd9af84525'\u001b[0m,\n",
       "    \u001b[32m'enrichmentCallbackURL'\u001b[0m: \u001b[32m'https://api.surfe.com/v2/people/enrich/0196ab4d-3f15-7e73-a392-9fdd9af84525'\u001b[0m\n",
       "\u001b[1m}\u001b[0m\n"
      ]
     },
     "metadata": {},
     "output_type": "display_data"
    },
    {
     "data": {
      "text/html": [
       "<pre style=\"white-space:pre;overflow-x:auto;line-height:normal;font-family:Menlo,'DejaVu Sans Mono',consolas,'Courier New',monospace\">Percent completed: <span style=\"color: #008080; text-decoration-color: #008080; font-weight: bold\">0</span>%\n",
       "</pre>\n"
      ],
      "text/plain": [
       "Percent completed: \u001b[1;36m0\u001b[0m%\n"
      ]
     },
     "metadata": {},
     "output_type": "display_data"
    },
    {
     "data": {
      "text/html": [
       "<pre style=\"white-space:pre;overflow-x:auto;line-height:normal;font-family:Menlo,'DejaVu Sans Mono',consolas,'Courier New',monospace\">Percent completed: <span style=\"color: #008080; text-decoration-color: #008080; font-weight: bold\">1</span>%\n",
       "</pre>\n"
      ],
      "text/plain": [
       "Percent completed: \u001b[1;36m1\u001b[0m%\n"
      ]
     },
     "metadata": {},
     "output_type": "display_data"
    },
    {
     "data": {
      "text/html": [
       "<pre style=\"white-space:pre;overflow-x:auto;line-height:normal;font-family:Menlo,'DejaVu Sans Mono',consolas,'Courier New',monospace\">Percent completed: <span style=\"color: #008080; text-decoration-color: #008080; font-weight: bold\">2</span>%\n",
       "</pre>\n"
      ],
      "text/plain": [
       "Percent completed: \u001b[1;36m2\u001b[0m%\n"
      ]
     },
     "metadata": {},
     "output_type": "display_data"
    },
    {
     "data": {
      "text/html": [
       "<pre style=\"white-space:pre;overflow-x:auto;line-height:normal;font-family:Menlo,'DejaVu Sans Mono',consolas,'Courier New',monospace\">Percent completed: <span style=\"color: #008080; text-decoration-color: #008080; font-weight: bold\">7</span>%\n",
       "</pre>\n"
      ],
      "text/plain": [
       "Percent completed: \u001b[1;36m7\u001b[0m%\n"
      ]
     },
     "metadata": {},
     "output_type": "display_data"
    },
    {
     "data": {
      "text/html": [
       "<pre style=\"white-space:pre;overflow-x:auto;line-height:normal;font-family:Menlo,'DejaVu Sans Mono',consolas,'Courier New',monospace\">Percent completed: <span style=\"color: #008080; text-decoration-color: #008080; font-weight: bold\">12</span>%\n",
       "</pre>\n"
      ],
      "text/plain": [
       "Percent completed: \u001b[1;36m12\u001b[0m%\n"
      ]
     },
     "metadata": {},
     "output_type": "display_data"
    },
    {
     "data": {
      "text/html": [
       "<pre style=\"white-space:pre;overflow-x:auto;line-height:normal;font-family:Menlo,'DejaVu Sans Mono',consolas,'Courier New',monospace\">Percent completed: <span style=\"color: #008080; text-decoration-color: #008080; font-weight: bold\">15</span>%\n",
       "</pre>\n"
      ],
      "text/plain": [
       "Percent completed: \u001b[1;36m15\u001b[0m%\n"
      ]
     },
     "metadata": {},
     "output_type": "display_data"
    },
    {
     "data": {
      "text/html": [
       "<pre style=\"white-space:pre;overflow-x:auto;line-height:normal;font-family:Menlo,'DejaVu Sans Mono',consolas,'Courier New',monospace\">Percent completed: <span style=\"color: #008080; text-decoration-color: #008080; font-weight: bold\">15</span>%\n",
       "</pre>\n"
      ],
      "text/plain": [
       "Percent completed: \u001b[1;36m15\u001b[0m%\n"
      ]
     },
     "metadata": {},
     "output_type": "display_data"
    },
    {
     "data": {
      "text/html": [
       "<pre style=\"white-space:pre;overflow-x:auto;line-height:normal;font-family:Menlo,'DejaVu Sans Mono',consolas,'Courier New',monospace\">Percent completed: <span style=\"color: #008080; text-decoration-color: #008080; font-weight: bold\">16</span>%\n",
       "</pre>\n"
      ],
      "text/plain": [
       "Percent completed: \u001b[1;36m16\u001b[0m%\n"
      ]
     },
     "metadata": {},
     "output_type": "display_data"
    },
    {
     "data": {
      "text/html": [
       "<pre style=\"white-space:pre;overflow-x:auto;line-height:normal;font-family:Menlo,'DejaVu Sans Mono',consolas,'Courier New',monospace\">Percent completed: <span style=\"color: #008080; text-decoration-color: #008080; font-weight: bold\">23</span>%\n",
       "</pre>\n"
      ],
      "text/plain": [
       "Percent completed: \u001b[1;36m23\u001b[0m%\n"
      ]
     },
     "metadata": {},
     "output_type": "display_data"
    },
    {
     "data": {
      "text/html": [
       "<pre style=\"white-space:pre;overflow-x:auto;line-height:normal;font-family:Menlo,'DejaVu Sans Mono',consolas,'Courier New',monospace\">Percent completed: <span style=\"color: #008080; text-decoration-color: #008080; font-weight: bold\">25</span>%\n",
       "</pre>\n"
      ],
      "text/plain": [
       "Percent completed: \u001b[1;36m25\u001b[0m%\n"
      ]
     },
     "metadata": {},
     "output_type": "display_data"
    },
    {
     "data": {
      "text/html": [
       "<pre style=\"white-space:pre;overflow-x:auto;line-height:normal;font-family:Menlo,'DejaVu Sans Mono',consolas,'Courier New',monospace\">Percent completed: <span style=\"color: #008080; text-decoration-color: #008080; font-weight: bold\">29</span>%\n",
       "</pre>\n"
      ],
      "text/plain": [
       "Percent completed: \u001b[1;36m29\u001b[0m%\n"
      ]
     },
     "metadata": {},
     "output_type": "display_data"
    },
    {
     "data": {
      "text/html": [
       "<pre style=\"white-space:pre;overflow-x:auto;line-height:normal;font-family:Menlo,'DejaVu Sans Mono',consolas,'Courier New',monospace\">Percent completed: <span style=\"color: #008080; text-decoration-color: #008080; font-weight: bold\">30</span>%\n",
       "</pre>\n"
      ],
      "text/plain": [
       "Percent completed: \u001b[1;36m30\u001b[0m%\n"
      ]
     },
     "metadata": {},
     "output_type": "display_data"
    },
    {
     "data": {
      "text/html": [
       "<pre style=\"white-space:pre;overflow-x:auto;line-height:normal;font-family:Menlo,'DejaVu Sans Mono',consolas,'Courier New',monospace\">Percent completed: <span style=\"color: #008080; text-decoration-color: #008080; font-weight: bold\">33</span>%\n",
       "</pre>\n"
      ],
      "text/plain": [
       "Percent completed: \u001b[1;36m33\u001b[0m%\n"
      ]
     },
     "metadata": {},
     "output_type": "display_data"
    },
    {
     "data": {
      "text/html": [
       "<pre style=\"white-space:pre;overflow-x:auto;line-height:normal;font-family:Menlo,'DejaVu Sans Mono',consolas,'Courier New',monospace\">Percent completed: <span style=\"color: #008080; text-decoration-color: #008080; font-weight: bold\">35</span>%\n",
       "</pre>\n"
      ],
      "text/plain": [
       "Percent completed: \u001b[1;36m35\u001b[0m%\n"
      ]
     },
     "metadata": {},
     "output_type": "display_data"
    },
    {
     "data": {
      "text/html": [
       "<pre style=\"white-space:pre;overflow-x:auto;line-height:normal;font-family:Menlo,'DejaVu Sans Mono',consolas,'Courier New',monospace\">Percent completed: <span style=\"color: #008080; text-decoration-color: #008080; font-weight: bold\">39</span>%\n",
       "</pre>\n"
      ],
      "text/plain": [
       "Percent completed: \u001b[1;36m39\u001b[0m%\n"
      ]
     },
     "metadata": {},
     "output_type": "display_data"
    },
    {
     "data": {
      "text/html": [
       "<pre style=\"white-space:pre;overflow-x:auto;line-height:normal;font-family:Menlo,'DejaVu Sans Mono',consolas,'Courier New',monospace\">Percent completed: <span style=\"color: #008080; text-decoration-color: #008080; font-weight: bold\">41</span>%\n",
       "</pre>\n"
      ],
      "text/plain": [
       "Percent completed: \u001b[1;36m41\u001b[0m%\n"
      ]
     },
     "metadata": {},
     "output_type": "display_data"
    },
    {
     "data": {
      "text/html": [
       "<pre style=\"white-space:pre;overflow-x:auto;line-height:normal;font-family:Menlo,'DejaVu Sans Mono',consolas,'Courier New',monospace\">Percent completed: <span style=\"color: #008080; text-decoration-color: #008080; font-weight: bold\">42</span>%\n",
       "</pre>\n"
      ],
      "text/plain": [
       "Percent completed: \u001b[1;36m42\u001b[0m%\n"
      ]
     },
     "metadata": {},
     "output_type": "display_data"
    },
    {
     "data": {
      "text/html": [
       "<pre style=\"white-space:pre;overflow-x:auto;line-height:normal;font-family:Menlo,'DejaVu Sans Mono',consolas,'Courier New',monospace\">Percent completed: <span style=\"color: #008080; text-decoration-color: #008080; font-weight: bold\">43</span>%\n",
       "</pre>\n"
      ],
      "text/plain": [
       "Percent completed: \u001b[1;36m43\u001b[0m%\n"
      ]
     },
     "metadata": {},
     "output_type": "display_data"
    },
    {
     "data": {
      "text/html": [
       "<pre style=\"white-space:pre;overflow-x:auto;line-height:normal;font-family:Menlo,'DejaVu Sans Mono',consolas,'Courier New',monospace\">Percent completed: <span style=\"color: #008080; text-decoration-color: #008080; font-weight: bold\">44</span>%\n",
       "</pre>\n"
      ],
      "text/plain": [
       "Percent completed: \u001b[1;36m44\u001b[0m%\n"
      ]
     },
     "metadata": {},
     "output_type": "display_data"
    },
    {
     "data": {
      "text/html": [
       "<pre style=\"white-space:pre;overflow-x:auto;line-height:normal;font-family:Menlo,'DejaVu Sans Mono',consolas,'Courier New',monospace\">Percent completed: <span style=\"color: #008080; text-decoration-color: #008080; font-weight: bold\">44</span>%\n",
       "</pre>\n"
      ],
      "text/plain": [
       "Percent completed: \u001b[1;36m44\u001b[0m%\n"
      ]
     },
     "metadata": {},
     "output_type": "display_data"
    },
    {
     "data": {
      "text/html": [
       "<pre style=\"white-space:pre;overflow-x:auto;line-height:normal;font-family:Menlo,'DejaVu Sans Mono',consolas,'Courier New',monospace\">Percent completed: <span style=\"color: #008080; text-decoration-color: #008080; font-weight: bold\">44</span>%\n",
       "</pre>\n"
      ],
      "text/plain": [
       "Percent completed: \u001b[1;36m44\u001b[0m%\n"
      ]
     },
     "metadata": {},
     "output_type": "display_data"
    },
    {
     "data": {
      "text/html": [
       "<pre style=\"white-space:pre;overflow-x:auto;line-height:normal;font-family:Menlo,'DejaVu Sans Mono',consolas,'Courier New',monospace\">Percent completed: <span style=\"color: #008080; text-decoration-color: #008080; font-weight: bold\">45</span>%\n",
       "</pre>\n"
      ],
      "text/plain": [
       "Percent completed: \u001b[1;36m45\u001b[0m%\n"
      ]
     },
     "metadata": {},
     "output_type": "display_data"
    },
    {
     "data": {
      "text/html": [
       "<pre style=\"white-space:pre;overflow-x:auto;line-height:normal;font-family:Menlo,'DejaVu Sans Mono',consolas,'Courier New',monospace\">Percent completed: <span style=\"color: #008080; text-decoration-color: #008080; font-weight: bold\">61</span>%\n",
       "</pre>\n"
      ],
      "text/plain": [
       "Percent completed: \u001b[1;36m61\u001b[0m%\n"
      ]
     },
     "metadata": {},
     "output_type": "display_data"
    },
    {
     "data": {
      "text/html": [
       "<pre style=\"white-space:pre;overflow-x:auto;line-height:normal;font-family:Menlo,'DejaVu Sans Mono',consolas,'Courier New',monospace\">Percent completed: <span style=\"color: #008080; text-decoration-color: #008080; font-weight: bold\">66</span>%\n",
       "</pre>\n"
      ],
      "text/plain": [
       "Percent completed: \u001b[1;36m66\u001b[0m%\n"
      ]
     },
     "metadata": {},
     "output_type": "display_data"
    },
    {
     "data": {
      "text/html": [
       "<pre style=\"white-space:pre;overflow-x:auto;line-height:normal;font-family:Menlo,'DejaVu Sans Mono',consolas,'Courier New',monospace\">Percent completed: <span style=\"color: #008080; text-decoration-color: #008080; font-weight: bold\">70</span>%\n",
       "</pre>\n"
      ],
      "text/plain": [
       "Percent completed: \u001b[1;36m70\u001b[0m%\n"
      ]
     },
     "metadata": {},
     "output_type": "display_data"
    },
    {
     "data": {
      "text/html": [
       "<pre style=\"white-space:pre;overflow-x:auto;line-height:normal;font-family:Menlo,'DejaVu Sans Mono',consolas,'Courier New',monospace\">Percent completed: <span style=\"color: #008080; text-decoration-color: #008080; font-weight: bold\">70</span>%\n",
       "</pre>\n"
      ],
      "text/plain": [
       "Percent completed: \u001b[1;36m70\u001b[0m%\n"
      ]
     },
     "metadata": {},
     "output_type": "display_data"
    },
    {
     "data": {
      "text/html": [
       "<pre style=\"white-space:pre;overflow-x:auto;line-height:normal;font-family:Menlo,'DejaVu Sans Mono',consolas,'Courier New',monospace\">Percent completed: <span style=\"color: #008080; text-decoration-color: #008080; font-weight: bold\">71</span>%\n",
       "</pre>\n"
      ],
      "text/plain": [
       "Percent completed: \u001b[1;36m71\u001b[0m%\n"
      ]
     },
     "metadata": {},
     "output_type": "display_data"
    },
    {
     "data": {
      "text/html": [
       "<pre style=\"white-space:pre;overflow-x:auto;line-height:normal;font-family:Menlo,'DejaVu Sans Mono',consolas,'Courier New',monospace\">Percent completed: <span style=\"color: #008080; text-decoration-color: #008080; font-weight: bold\">73</span>%\n",
       "</pre>\n"
      ],
      "text/plain": [
       "Percent completed: \u001b[1;36m73\u001b[0m%\n"
      ]
     },
     "metadata": {},
     "output_type": "display_data"
    },
    {
     "data": {
      "text/html": [
       "<pre style=\"white-space:pre;overflow-x:auto;line-height:normal;font-family:Menlo,'DejaVu Sans Mono',consolas,'Courier New',monospace\">Percent completed: <span style=\"color: #008080; text-decoration-color: #008080; font-weight: bold\">75</span>%\n",
       "</pre>\n"
      ],
      "text/plain": [
       "Percent completed: \u001b[1;36m75\u001b[0m%\n"
      ]
     },
     "metadata": {},
     "output_type": "display_data"
    },
    {
     "data": {
      "text/html": [
       "<pre style=\"white-space:pre;overflow-x:auto;line-height:normal;font-family:Menlo,'DejaVu Sans Mono',consolas,'Courier New',monospace\">Percent completed: <span style=\"color: #008080; text-decoration-color: #008080; font-weight: bold\">75</span>%\n",
       "</pre>\n"
      ],
      "text/plain": [
       "Percent completed: \u001b[1;36m75\u001b[0m%\n"
      ]
     },
     "metadata": {},
     "output_type": "display_data"
    },
    {
     "data": {
      "text/html": [
       "<pre style=\"white-space:pre;overflow-x:auto;line-height:normal;font-family:Menlo,'DejaVu Sans Mono',consolas,'Courier New',monospace\">Percent completed: <span style=\"color: #008080; text-decoration-color: #008080; font-weight: bold\">76</span>%\n",
       "</pre>\n"
      ],
      "text/plain": [
       "Percent completed: \u001b[1;36m76\u001b[0m%\n"
      ]
     },
     "metadata": {},
     "output_type": "display_data"
    },
    {
     "data": {
      "text/html": [
       "<pre style=\"white-space:pre;overflow-x:auto;line-height:normal;font-family:Menlo,'DejaVu Sans Mono',consolas,'Courier New',monospace\">Percent completed: <span style=\"color: #008080; text-decoration-color: #008080; font-weight: bold\">77</span>%\n",
       "</pre>\n"
      ],
      "text/plain": [
       "Percent completed: \u001b[1;36m77\u001b[0m%\n"
      ]
     },
     "metadata": {},
     "output_type": "display_data"
    },
    {
     "data": {
      "text/html": [
       "<pre style=\"white-space:pre;overflow-x:auto;line-height:normal;font-family:Menlo,'DejaVu Sans Mono',consolas,'Courier New',monospace\">Percent completed: <span style=\"color: #008080; text-decoration-color: #008080; font-weight: bold\">77</span>%\n",
       "</pre>\n"
      ],
      "text/plain": [
       "Percent completed: \u001b[1;36m77\u001b[0m%\n"
      ]
     },
     "metadata": {},
     "output_type": "display_data"
    },
    {
     "data": {
      "text/html": [
       "<pre style=\"white-space:pre;overflow-x:auto;line-height:normal;font-family:Menlo,'DejaVu Sans Mono',consolas,'Courier New',monospace\">Percent completed: <span style=\"color: #008080; text-decoration-color: #008080; font-weight: bold\">80</span>%\n",
       "</pre>\n"
      ],
      "text/plain": [
       "Percent completed: \u001b[1;36m80\u001b[0m%\n"
      ]
     },
     "metadata": {},
     "output_type": "display_data"
    },
    {
     "data": {
      "text/html": [
       "<pre style=\"white-space:pre;overflow-x:auto;line-height:normal;font-family:Menlo,'DejaVu Sans Mono',consolas,'Courier New',monospace\">Percent completed: <span style=\"color: #008080; text-decoration-color: #008080; font-weight: bold\">80</span>%\n",
       "</pre>\n"
      ],
      "text/plain": [
       "Percent completed: \u001b[1;36m80\u001b[0m%\n"
      ]
     },
     "metadata": {},
     "output_type": "display_data"
    },
    {
     "data": {
      "text/html": [
       "<pre style=\"white-space:pre;overflow-x:auto;line-height:normal;font-family:Menlo,'DejaVu Sans Mono',consolas,'Courier New',monospace\">Percent completed: <span style=\"color: #008080; text-decoration-color: #008080; font-weight: bold\">81</span>%\n",
       "</pre>\n"
      ],
      "text/plain": [
       "Percent completed: \u001b[1;36m81\u001b[0m%\n"
      ]
     },
     "metadata": {},
     "output_type": "display_data"
    },
    {
     "data": {
      "text/html": [
       "<pre style=\"white-space:pre;overflow-x:auto;line-height:normal;font-family:Menlo,'DejaVu Sans Mono',consolas,'Courier New',monospace\">Percent completed: <span style=\"color: #008080; text-decoration-color: #008080; font-weight: bold\">82</span>%\n",
       "</pre>\n"
      ],
      "text/plain": [
       "Percent completed: \u001b[1;36m82\u001b[0m%\n"
      ]
     },
     "metadata": {},
     "output_type": "display_data"
    },
    {
     "data": {
      "text/html": [
       "<pre style=\"white-space:pre;overflow-x:auto;line-height:normal;font-family:Menlo,'DejaVu Sans Mono',consolas,'Courier New',monospace\">Percent completed: <span style=\"color: #008080; text-decoration-color: #008080; font-weight: bold\">83</span>%\n",
       "</pre>\n"
      ],
      "text/plain": [
       "Percent completed: \u001b[1;36m83\u001b[0m%\n"
      ]
     },
     "metadata": {},
     "output_type": "display_data"
    },
    {
     "data": {
      "text/html": [
       "<pre style=\"white-space:pre;overflow-x:auto;line-height:normal;font-family:Menlo,'DejaVu Sans Mono',consolas,'Courier New',monospace\">Percent completed: <span style=\"color: #008080; text-decoration-color: #008080; font-weight: bold\">84</span>%\n",
       "</pre>\n"
      ],
      "text/plain": [
       "Percent completed: \u001b[1;36m84\u001b[0m%\n"
      ]
     },
     "metadata": {},
     "output_type": "display_data"
    },
    {
     "data": {
      "text/html": [
       "<pre style=\"white-space:pre;overflow-x:auto;line-height:normal;font-family:Menlo,'DejaVu Sans Mono',consolas,'Courier New',monospace\">Percent completed: <span style=\"color: #008080; text-decoration-color: #008080; font-weight: bold\">88</span>%\n",
       "</pre>\n"
      ],
      "text/plain": [
       "Percent completed: \u001b[1;36m88\u001b[0m%\n"
      ]
     },
     "metadata": {},
     "output_type": "display_data"
    },
    {
     "data": {
      "text/html": [
       "<pre style=\"white-space:pre;overflow-x:auto;line-height:normal;font-family:Menlo,'DejaVu Sans Mono',consolas,'Courier New',monospace\">Percent completed: <span style=\"color: #008080; text-decoration-color: #008080; font-weight: bold\">90</span>%\n",
       "</pre>\n"
      ],
      "text/plain": [
       "Percent completed: \u001b[1;36m90\u001b[0m%\n"
      ]
     },
     "metadata": {},
     "output_type": "display_data"
    },
    {
     "data": {
      "text/html": [
       "<pre style=\"white-space:pre;overflow-x:auto;line-height:normal;font-family:Menlo,'DejaVu Sans Mono',consolas,'Courier New',monospace\">Percent completed: <span style=\"color: #008080; text-decoration-color: #008080; font-weight: bold\">92</span>%\n",
       "</pre>\n"
      ],
      "text/plain": [
       "Percent completed: \u001b[1;36m92\u001b[0m%\n"
      ]
     },
     "metadata": {},
     "output_type": "display_data"
    },
    {
     "data": {
      "text/html": [
       "<pre style=\"white-space:pre;overflow-x:auto;line-height:normal;font-family:Menlo,'DejaVu Sans Mono',consolas,'Courier New',monospace\">Percent completed: <span style=\"color: #008080; text-decoration-color: #008080; font-weight: bold\">93</span>%\n",
       "</pre>\n"
      ],
      "text/plain": [
       "Percent completed: \u001b[1;36m93\u001b[0m%\n"
      ]
     },
     "metadata": {},
     "output_type": "display_data"
    },
    {
     "data": {
      "text/html": [
       "<pre style=\"white-space:pre;overflow-x:auto;line-height:normal;font-family:Menlo,'DejaVu Sans Mono',consolas,'Courier New',monospace\">Percent completed: <span style=\"color: #008080; text-decoration-color: #008080; font-weight: bold\">97</span>%\n",
       "</pre>\n"
      ],
      "text/plain": [
       "Percent completed: \u001b[1;36m97\u001b[0m%\n"
      ]
     },
     "metadata": {},
     "output_type": "display_data"
    },
    {
     "data": {
      "text/html": [
       "<pre style=\"white-space:pre;overflow-x:auto;line-height:normal;font-family:Menlo,'DejaVu Sans Mono',consolas,'Courier New',monospace\">Percent completed: <span style=\"color: #008080; text-decoration-color: #008080; font-weight: bold\">98</span>%\n",
       "</pre>\n"
      ],
      "text/plain": [
       "Percent completed: \u001b[1;36m98\u001b[0m%\n"
      ]
     },
     "metadata": {},
     "output_type": "display_data"
    },
    {
     "data": {
      "text/html": [
       "<pre style=\"white-space:pre;overflow-x:auto;line-height:normal;font-family:Menlo,'DejaVu Sans Mono',consolas,'Courier New',monospace\">Percent completed: <span style=\"color: #008080; text-decoration-color: #008080; font-weight: bold\">98</span>%\n",
       "</pre>\n"
      ],
      "text/plain": [
       "Percent completed: \u001b[1;36m98\u001b[0m%\n"
      ]
     },
     "metadata": {},
     "output_type": "display_data"
    },
    {
     "data": {
      "text/html": [
       "<pre style=\"white-space:pre;overflow-x:auto;line-height:normal;font-family:Menlo,'DejaVu Sans Mono',consolas,'Courier New',monospace\">Percent completed: <span style=\"color: #008080; text-decoration-color: #008080; font-weight: bold\">99</span>%\n",
       "</pre>\n"
      ],
      "text/plain": [
       "Percent completed: \u001b[1;36m99\u001b[0m%\n"
      ]
     },
     "metadata": {},
     "output_type": "display_data"
    },
    {
     "data": {
      "text/html": [
       "<pre style=\"white-space:pre;overflow-x:auto;line-height:normal;font-family:Menlo,'DejaVu Sans Mono',consolas,'Courier New',monospace\">Percent completed: <span style=\"color: #008080; text-decoration-color: #008080; font-weight: bold\">99</span>%\n",
       "</pre>\n"
      ],
      "text/plain": [
       "Percent completed: \u001b[1;36m99\u001b[0m%\n"
      ]
     },
     "metadata": {},
     "output_type": "display_data"
    },
    {
     "data": {
      "text/html": [
       "<pre style=\"white-space:pre;overflow-x:auto;line-height:normal;font-family:Menlo,'DejaVu Sans Mono',consolas,'Courier New',monospace\">Percent completed: <span style=\"color: #008080; text-decoration-color: #008080; font-weight: bold\">99</span>%\n",
       "</pre>\n"
      ],
      "text/plain": [
       "Percent completed: \u001b[1;36m99\u001b[0m%\n"
      ]
     },
     "metadata": {},
     "output_type": "display_data"
    },
    {
     "data": {
      "text/html": [
       "<pre style=\"white-space:pre;overflow-x:auto;line-height:normal;font-family:Menlo,'DejaVu Sans Mono',consolas,'Courier New',monospace\">Percent completed: <span style=\"color: #008080; text-decoration-color: #008080; font-weight: bold\">100</span>%\n",
       "</pre>\n"
      ],
      "text/plain": [
       "Percent completed: \u001b[1;36m100\u001b[0m%\n"
      ]
     },
     "metadata": {},
     "output_type": "display_data"
    }
   ],
   "source": [
    "df1, df2 = enrich(\"20250507 test data for matt.csv\")"
   ]
  },
  {
   "cell_type": "code",
   "execution_count": 3,
   "id": "3b52b440",
   "metadata": {},
   "outputs": [
    {
     "data": {
      "text/html": [
       "<div><style>\n",
       ".dataframe > thead > tr,\n",
       ".dataframe > tbody > tr {\n",
       "  text-align: right;\n",
       "  white-space: pre-wrap;\n",
       "}\n",
       "</style>\n",
       "<small>shape: (100, 5)</small><table border=\"1\" class=\"dataframe\"><thead><tr><th>externalID</th><th>firstName</th><th>lastName</th><th>email</th><th>linkedInUrl</th></tr><tr><td>str</td><td>str</td><td>str</td><td>str</td><td>str</td></tr></thead><tbody><tr><td>&quot;4868&quot;</td><td>&quot;Anna&quot;</td><td>&quot;Eide&quot;</td><td>&quot;eidea@worldkitchen.com&quot;</td><td>&quot;https://www.linkedin.com/in/an…</td></tr><tr><td>&quot;18675480&quot;</td><td>&quot;Stephanie&quot;</td><td>&quot;Meals&quot;</td><td>&quot;stephanie.meals@pepsico.com&quot;</td><td>&quot;https://www.linkedin.com/in/sm…</td></tr><tr><td>&quot;121604&quot;</td><td>&quot;Laszlo&quot;</td><td>&quot;Tikk&quot;</td><td>&quot;ltikk@marzetti.com&quot;</td><td>&quot;https://www.linkedin.com/in/la…</td></tr><tr><td>&quot;24058980&quot;</td><td>&quot;Tammy&quot;</td><td>&quot;Butterworth&quot;</td><td>&quot;tammy.butterworth@pepsico.com&quot;</td><td>&quot;https://www.linkedin.com/in/ta…</td></tr><tr><td>&quot;5154735664&quot;</td><td>&quot;Joel&quot;</td><td>&quot;White&quot;</td><td>&quot;joel.white@gmcr.com&quot;</td><td>&quot;https://www.linkedin.com/in/jo…</td></tr><tr><td>&hellip;</td><td>&hellip;</td><td>&hellip;</td><td>&hellip;</td><td>&hellip;</td></tr><tr><td>&quot;11241&quot;</td><td>&quot;Michelle&quot;</td><td>&quot;Thevil&quot;</td><td>&quot;mthevil@kashi.com&quot;</td><td>&quot;https://www.linkedin.com/in/mi…</td></tr><tr><td>&quot;4075&quot;</td><td>&quot;Cindy&quot;</td><td>&quot;Orr&quot;</td><td>&quot;corr@aveda.com&quot;</td><td>&quot;https://www.linkedin.com/in/ci…</td></tr><tr><td>&quot;4076&quot;</td><td>&quot;C.J.&quot;</td><td>&quot;Brown&quot;</td><td>&quot;brown.c@pg.com&quot;</td><td>&quot;https://www.linkedin.com/in/cj…</td></tr><tr><td>&quot;121581&quot;</td><td>&quot;Christine&quot;</td><td>&quot;Song&quot;</td><td>&quot;csong@estee.com&quot;</td><td>&quot;https://www.linkedin.com/in/ch…</td></tr><tr><td>&quot;4338&quot;</td><td>&quot;Martin&quot;</td><td>&quot;Michaelson&quot;</td><td>&quot;martin.michaelson@wachovia.com&quot;</td><td>&quot;https://www.linkedin.com/in/ma…</td></tr></tbody></table></div>"
      ],
      "text/plain": [
       "shape: (100, 5)\n",
       "┌────────────┬───────────┬─────────────┬─────────────────────────────┬─────────────────────────────┐\n",
       "│ externalID ┆ firstName ┆ lastName    ┆ email                       ┆ linkedInUrl                 │\n",
       "│ ---        ┆ ---       ┆ ---         ┆ ---                         ┆ ---                         │\n",
       "│ str        ┆ str       ┆ str         ┆ str                         ┆ str                         │\n",
       "╞════════════╪═══════════╪═════════════╪═════════════════════════════╪═════════════════════════════╡\n",
       "│ 4868       ┆ Anna      ┆ Eide        ┆ eidea@worldkitchen.com      ┆ https://www.linkedin.com/in │\n",
       "│            ┆           ┆             ┆                             ┆ /an…                        │\n",
       "│ 18675480   ┆ Stephanie ┆ Meals       ┆ stephanie.meals@pepsico.com ┆ https://www.linkedin.com/in │\n",
       "│            ┆           ┆             ┆                             ┆ /sm…                        │\n",
       "│ 121604     ┆ Laszlo    ┆ Tikk        ┆ ltikk@marzetti.com          ┆ https://www.linkedin.com/in │\n",
       "│            ┆           ┆             ┆                             ┆ /la…                        │\n",
       "│ 24058980   ┆ Tammy     ┆ Butterworth ┆ tammy.butterworth@pepsico.c ┆ https://www.linkedin.com/in │\n",
       "│            ┆           ┆             ┆ om                          ┆ /ta…                        │\n",
       "│ 5154735664 ┆ Joel      ┆ White       ┆ joel.white@gmcr.com         ┆ https://www.linkedin.com/in │\n",
       "│            ┆           ┆             ┆                             ┆ /jo…                        │\n",
       "│ …          ┆ …         ┆ …           ┆ …                           ┆ …                           │\n",
       "│ 11241      ┆ Michelle  ┆ Thevil      ┆ mthevil@kashi.com           ┆ https://www.linkedin.com/in │\n",
       "│            ┆           ┆             ┆                             ┆ /mi…                        │\n",
       "│ 4075       ┆ Cindy     ┆ Orr         ┆ corr@aveda.com              ┆ https://www.linkedin.com/in │\n",
       "│            ┆           ┆             ┆                             ┆ /ci…                        │\n",
       "│ 4076       ┆ C.J.      ┆ Brown       ┆ brown.c@pg.com              ┆ https://www.linkedin.com/in │\n",
       "│            ┆           ┆             ┆                             ┆ /cj…                        │\n",
       "│ 121581     ┆ Christine ┆ Song        ┆ csong@estee.com             ┆ https://www.linkedin.com/in │\n",
       "│            ┆           ┆             ┆                             ┆ /ch…                        │\n",
       "│ 4338       ┆ Martin    ┆ Michaelson  ┆ martin.michaelson@wachovia. ┆ https://www.linkedin.com/in │\n",
       "│            ┆           ┆             ┆ com                         ┆ /ma…                        │\n",
       "└────────────┴───────────┴─────────────┴─────────────────────────────┴─────────────────────────────┘"
      ]
     },
     "execution_count": 3,
     "metadata": {},
     "output_type": "execute_result"
    }
   ],
   "source": [
    "df1"
   ]
  },
  {
   "cell_type": "code",
   "execution_count": 4,
   "id": "91fbbd2d",
   "metadata": {},
   "outputs": [
    {
     "data": {
      "text/html": [
       "<div><style>\n",
       ".dataframe > thead > tr,\n",
       ".dataframe > tbody > tr {\n",
       "  text-align: right;\n",
       "  white-space: pre-wrap;\n",
       "}\n",
       "</style>\n",
       "<small>shape: (100, 10)</small><table border=\"1\" class=\"dataframe\"><thead><tr><th>externalID</th><th>firstName</th><th>lastName</th><th>linkedInUrl</th><th>jobTitle</th><th>emails</th><th>mobilePhones</th><th>status</th><th>companyName</th><th>companyDomain</th></tr><tr><td>str</td><td>str</td><td>str</td><td>str</td><td>str</td><td>list[struct[2]]</td><td>list[null]</td><td>str</td><td>str</td><td>str</td></tr></thead><tbody><tr><td>&quot;4868&quot;</td><td>&quot;Anna&quot;</td><td>&quot;Eide&quot;</td><td>&quot;https://linkedin.com/in/aneide&quot;</td><td>&quot;Founder and Principal Design C…</td><td>null</td><td>[]</td><td>&quot;COMPLETED&quot;</td><td>null</td><td>null</td></tr><tr><td>&quot;18675480&quot;</td><td>&quot;Stephanie&quot;</td><td>&quot;Meals&quot;</td><td>&quot;https://linkedin.com/in/smeals&quot;</td><td>&quot;Consumer Insights Associate Ma…</td><td>[{&quot;stephanie.meals@generalmills.com&quot;,&quot;VALID&quot;}]</td><td>[]</td><td>&quot;COMPLETED&quot;</td><td>&quot;General Mills&quot;</td><td>&quot;generalmills.com&quot;</td></tr><tr><td>&quot;121604&quot;</td><td>&quot;Laszlo&quot;</td><td>&quot;Tikk&quot;</td><td>&quot;https://linkedin.com/in/laszlo…</td><td>&quot;General Manager&quot;</td><td>[{&quot;ltikk@blommer.com&quot;,&quot;VALID&quot;}]</td><td>[]</td><td>&quot;COMPLETED&quot;</td><td>&quot;Blommer Chocolate Company&quot;</td><td>&quot;blommer.com&quot;</td></tr><tr><td>&quot;24058980&quot;</td><td>&quot;Tammy&quot;</td><td>&quot;Butterworth&quot;</td><td>&quot;https://linkedin.com/in/tammyb…</td><td>&quot;Product Innovation Director&quot;</td><td>[{&quot;tbutterworth@welchs.com&quot;,&quot;CATCH_ALL&quot;}]</td><td>[]</td><td>&quot;COMPLETED&quot;</td><td>&quot;Welch&#x27;s&quot;</td><td>&quot;welchs.com&quot;</td></tr><tr><td>&quot;5154735664&quot;</td><td>&quot;Joel&quot;</td><td>&quot;White&quot;</td><td>&quot;https://linkedin.com/in/joelwh…</td><td>&quot;Vice President Of Marketing&quot;</td><td>[{&quot;jwhite@thegenuinehospitalitygroup.com&quot;,&quot;VALID&quot;}]</td><td>[]</td><td>&quot;COMPLETED&quot;</td><td>&quot;The Genuine Hospitality Group&quot;</td><td>&quot;thegenuinehospitalitygroup.com&quot;</td></tr><tr><td>&hellip;</td><td>&hellip;</td><td>&hellip;</td><td>&hellip;</td><td>&hellip;</td><td>&hellip;</td><td>&hellip;</td><td>&hellip;</td><td>&hellip;</td><td>&hellip;</td></tr><tr><td>&quot;11241&quot;</td><td>&quot;Michelle&quot;</td><td>&quot;Thevil&quot;</td><td>&quot;https://linkedin.com/in/michel…</td><td>&quot;Principal UX Researcher&quot;</td><td>[{&quot;michelle.mcdonald@salesforce.com&quot;,&quot;VALID&quot;}]</td><td>[]</td><td>&quot;COMPLETED&quot;</td><td>&quot;Salesforce&quot;</td><td>&quot;salesforce.com&quot;</td></tr><tr><td>&quot;4075&quot;</td><td>&quot;Cindy&quot;</td><td>&quot;Orr&quot;</td><td>&quot;https://linkedin.com/in/cindy-…</td><td>&quot;General Manager/VP&quot;</td><td>[{&quot;corr@celebluxury.com&quot;,&quot;VALID&quot;}]</td><td>[]</td><td>&quot;COMPLETED&quot;</td><td>&quot;Celeb Luxury, LLC&quot;</td><td>&quot;celebluxury.com&quot;</td></tr><tr><td>&quot;4076&quot;</td><td>&quot;C.J.&quot;</td><td>&quot;Brown&quot;</td><td>&quot;https://linkedin.com/in/cjbrow…</td><td>&quot;Vice President, Marketing, Ana…</td><td>[{&quot;cj_brown@campbells.com&quot;,&quot;VALID&quot;}]</td><td>[]</td><td>&quot;COMPLETED&quot;</td><td>&quot;Campbell&#x27;s&quot;</td><td>&quot;campbells.com&quot;</td></tr><tr><td>&quot;121581&quot;</td><td>&quot;Christine&quot;</td><td>&quot;Song&quot;</td><td>&quot;https://linkedin.com/in/christ…</td><td>&quot;VP, Keys Soulcare&quot;</td><td>[{&quot;csong@elfcosmetics.com&quot;,&quot;VALID&quot;}]</td><td>[]</td><td>&quot;COMPLETED&quot;</td><td>&quot;E.L.F. BEAUTY&quot;</td><td>&quot;elfcosmetics.com&quot;</td></tr><tr><td>&quot;4338&quot;</td><td>&quot;Martin&quot;</td><td>&quot;Michaelson&quot;</td><td>&quot;https://linkedin.com/in/martin…</td><td>&quot;Executive Director&quot;</td><td>[{&quot;martin.michaelson@wellsfargo.com&quot;,&quot;VALID&quot;}]</td><td>[]</td><td>&quot;COMPLETED&quot;</td><td>&quot;Wells Fargo&quot;</td><td>&quot;wellsfargo.com&quot;</td></tr></tbody></table></div>"
      ],
      "text/plain": [
       "shape: (100, 10)\n",
       "┌───────────┬───────────┬───────────┬───────────┬───┬───────────┬───────────┬───────────┬──────────┐\n",
       "│ externalI ┆ firstName ┆ lastName  ┆ linkedInU ┆ … ┆ mobilePho ┆ status    ┆ companyNa ┆ companyD │\n",
       "│ D         ┆ ---       ┆ ---       ┆ rl        ┆   ┆ nes       ┆ ---       ┆ me        ┆ omain    │\n",
       "│ ---       ┆ str       ┆ str       ┆ ---       ┆   ┆ ---       ┆ str       ┆ ---       ┆ ---      │\n",
       "│ str       ┆           ┆           ┆ str       ┆   ┆ list[null ┆           ┆ str       ┆ str      │\n",
       "│           ┆           ┆           ┆           ┆   ┆ ]         ┆           ┆           ┆          │\n",
       "╞═══════════╪═══════════╪═══════════╪═══════════╪═══╪═══════════╪═══════════╪═══════════╪══════════╡\n",
       "│ 4868      ┆ Anna      ┆ Eide      ┆ https://l ┆ … ┆ []        ┆ COMPLETED ┆ null      ┆ null     │\n",
       "│           ┆           ┆           ┆ inkedin.c ┆   ┆           ┆           ┆           ┆          │\n",
       "│           ┆           ┆           ┆ om/in/ane ┆   ┆           ┆           ┆           ┆          │\n",
       "│           ┆           ┆           ┆ ide       ┆   ┆           ┆           ┆           ┆          │\n",
       "│ 18675480  ┆ Stephanie ┆ Meals     ┆ https://l ┆ … ┆ []        ┆ COMPLETED ┆ General   ┆ generalm │\n",
       "│           ┆           ┆           ┆ inkedin.c ┆   ┆           ┆           ┆ Mills     ┆ ills.com │\n",
       "│           ┆           ┆           ┆ om/in/sme ┆   ┆           ┆           ┆           ┆          │\n",
       "│           ┆           ┆           ┆ als       ┆   ┆           ┆           ┆           ┆          │\n",
       "│ 121604    ┆ Laszlo    ┆ Tikk      ┆ https://l ┆ … ┆ []        ┆ COMPLETED ┆ Blommer   ┆ blommer. │\n",
       "│           ┆           ┆           ┆ inkedin.c ┆   ┆           ┆           ┆ Chocolate ┆ com      │\n",
       "│           ┆           ┆           ┆ om/in/las ┆   ┆           ┆           ┆ Company   ┆          │\n",
       "│           ┆           ┆           ┆ zlo…      ┆   ┆           ┆           ┆           ┆          │\n",
       "│ 24058980  ┆ Tammy     ┆ Butterwor ┆ https://l ┆ … ┆ []        ┆ COMPLETED ┆ Welch's   ┆ welchs.c │\n",
       "│           ┆           ┆ th        ┆ inkedin.c ┆   ┆           ┆           ┆           ┆ om       │\n",
       "│           ┆           ┆           ┆ om/in/tam ┆   ┆           ┆           ┆           ┆          │\n",
       "│           ┆           ┆           ┆ myb…      ┆   ┆           ┆           ┆           ┆          │\n",
       "│ 515473566 ┆ Joel      ┆ White     ┆ https://l ┆ … ┆ []        ┆ COMPLETED ┆ The       ┆ thegenui │\n",
       "│ 4         ┆           ┆           ┆ inkedin.c ┆   ┆           ┆           ┆ Genuine   ┆ nehospit │\n",
       "│           ┆           ┆           ┆ om/in/joe ┆   ┆           ┆           ┆ Hospitali ┆ alitygro │\n",
       "│           ┆           ┆           ┆ lwh…      ┆   ┆           ┆           ┆ ty Group  ┆ up.com   │\n",
       "│ …         ┆ …         ┆ …         ┆ …         ┆ … ┆ …         ┆ …         ┆ …         ┆ …        │\n",
       "│ 11241     ┆ Michelle  ┆ Thevil    ┆ https://l ┆ … ┆ []        ┆ COMPLETED ┆ Salesforc ┆ salesfor │\n",
       "│           ┆           ┆           ┆ inkedin.c ┆   ┆           ┆           ┆ e         ┆ ce.com   │\n",
       "│           ┆           ┆           ┆ om/in/mic ┆   ┆           ┆           ┆           ┆          │\n",
       "│           ┆           ┆           ┆ hel…      ┆   ┆           ┆           ┆           ┆          │\n",
       "│ 4075      ┆ Cindy     ┆ Orr       ┆ https://l ┆ … ┆ []        ┆ COMPLETED ┆ Celeb     ┆ celeblux │\n",
       "│           ┆           ┆           ┆ inkedin.c ┆   ┆           ┆           ┆ Luxury,   ┆ ury.com  │\n",
       "│           ┆           ┆           ┆ om/in/cin ┆   ┆           ┆           ┆ LLC       ┆          │\n",
       "│           ┆           ┆           ┆ dy-…      ┆   ┆           ┆           ┆           ┆          │\n",
       "│ 4076      ┆ C.J.      ┆ Brown     ┆ https://l ┆ … ┆ []        ┆ COMPLETED ┆ Campbell' ┆ campbell │\n",
       "│           ┆           ┆           ┆ inkedin.c ┆   ┆           ┆           ┆ s         ┆ s.com    │\n",
       "│           ┆           ┆           ┆ om/in/cjb ┆   ┆           ┆           ┆           ┆          │\n",
       "│           ┆           ┆           ┆ row…      ┆   ┆           ┆           ┆           ┆          │\n",
       "│ 121581    ┆ Christine ┆ Song      ┆ https://l ┆ … ┆ []        ┆ COMPLETED ┆ E.L.F.    ┆ elfcosme │\n",
       "│           ┆           ┆           ┆ inkedin.c ┆   ┆           ┆           ┆ BEAUTY    ┆ tics.com │\n",
       "│           ┆           ┆           ┆ om/in/chr ┆   ┆           ┆           ┆           ┆          │\n",
       "│           ┆           ┆           ┆ ist…      ┆   ┆           ┆           ┆           ┆          │\n",
       "│ 4338      ┆ Martin    ┆ Michaelso ┆ https://l ┆ … ┆ []        ┆ COMPLETED ┆ Wells     ┆ wellsfar │\n",
       "│           ┆           ┆ n         ┆ inkedin.c ┆   ┆           ┆           ┆ Fargo     ┆ go.com   │\n",
       "│           ┆           ┆           ┆ om/in/mar ┆   ┆           ┆           ┆           ┆          │\n",
       "│           ┆           ┆           ┆ tin…      ┆   ┆           ┆           ┆           ┆          │\n",
       "└───────────┴───────────┴───────────┴───────────┴───┴───────────┴───────────┴───────────┴──────────┘"
      ]
     },
     "execution_count": 4,
     "metadata": {},
     "output_type": "execute_result"
    }
   ],
   "source": [
    "df2"
   ]
  },
  {
   "cell_type": "code",
   "execution_count": 5,
   "id": "8526b111",
   "metadata": {},
   "outputs": [
    {
     "data": {
      "text/html": [
       "<div><style>\n",
       ".dataframe > thead > tr,\n",
       ".dataframe > tbody > tr {\n",
       "  text-align: right;\n",
       "  white-space: pre-wrap;\n",
       "}\n",
       "</style>\n",
       "<small>shape: (100, 11)</small><table border=\"1\" class=\"dataframe\"><thead><tr><th>externalID</th><th>firstName</th><th>lastName</th><th>linkedInUrl</th><th>jobTitle</th><th>mobilePhones</th><th>status</th><th>companyName</th><th>companyDomain</th><th>email</th><th>validationStatus</th></tr><tr><td>str</td><td>str</td><td>str</td><td>str</td><td>str</td><td>list[null]</td><td>str</td><td>str</td><td>str</td><td>str</td><td>str</td></tr></thead><tbody><tr><td>&quot;4868&quot;</td><td>&quot;Anna&quot;</td><td>&quot;Eide&quot;</td><td>&quot;https://linkedin.com/in/aneide&quot;</td><td>&quot;Founder and Principal Design C…</td><td>[]</td><td>&quot;COMPLETED&quot;</td><td>null</td><td>null</td><td>null</td><td>null</td></tr><tr><td>&quot;18675480&quot;</td><td>&quot;Stephanie&quot;</td><td>&quot;Meals&quot;</td><td>&quot;https://linkedin.com/in/smeals&quot;</td><td>&quot;Consumer Insights Associate Ma…</td><td>[]</td><td>&quot;COMPLETED&quot;</td><td>&quot;General Mills&quot;</td><td>&quot;generalmills.com&quot;</td><td>&quot;stephanie.meals@generalmills.c…</td><td>&quot;VALID&quot;</td></tr><tr><td>&quot;121604&quot;</td><td>&quot;Laszlo&quot;</td><td>&quot;Tikk&quot;</td><td>&quot;https://linkedin.com/in/laszlo…</td><td>&quot;General Manager&quot;</td><td>[]</td><td>&quot;COMPLETED&quot;</td><td>&quot;Blommer Chocolate Company&quot;</td><td>&quot;blommer.com&quot;</td><td>&quot;ltikk@blommer.com&quot;</td><td>&quot;VALID&quot;</td></tr><tr><td>&quot;24058980&quot;</td><td>&quot;Tammy&quot;</td><td>&quot;Butterworth&quot;</td><td>&quot;https://linkedin.com/in/tammyb…</td><td>&quot;Product Innovation Director&quot;</td><td>[]</td><td>&quot;COMPLETED&quot;</td><td>&quot;Welch&#x27;s&quot;</td><td>&quot;welchs.com&quot;</td><td>&quot;tbutterworth@welchs.com&quot;</td><td>&quot;CATCH_ALL&quot;</td></tr><tr><td>&quot;5154735664&quot;</td><td>&quot;Joel&quot;</td><td>&quot;White&quot;</td><td>&quot;https://linkedin.com/in/joelwh…</td><td>&quot;Vice President Of Marketing&quot;</td><td>[]</td><td>&quot;COMPLETED&quot;</td><td>&quot;The Genuine Hospitality Group&quot;</td><td>&quot;thegenuinehospitalitygroup.com&quot;</td><td>&quot;jwhite@thegenuinehospitalitygr…</td><td>&quot;VALID&quot;</td></tr><tr><td>&hellip;</td><td>&hellip;</td><td>&hellip;</td><td>&hellip;</td><td>&hellip;</td><td>&hellip;</td><td>&hellip;</td><td>&hellip;</td><td>&hellip;</td><td>&hellip;</td><td>&hellip;</td></tr><tr><td>&quot;11241&quot;</td><td>&quot;Michelle&quot;</td><td>&quot;Thevil&quot;</td><td>&quot;https://linkedin.com/in/michel…</td><td>&quot;Principal UX Researcher&quot;</td><td>[]</td><td>&quot;COMPLETED&quot;</td><td>&quot;Salesforce&quot;</td><td>&quot;salesforce.com&quot;</td><td>&quot;michelle.mcdonald@salesforce.c…</td><td>&quot;VALID&quot;</td></tr><tr><td>&quot;4075&quot;</td><td>&quot;Cindy&quot;</td><td>&quot;Orr&quot;</td><td>&quot;https://linkedin.com/in/cindy-…</td><td>&quot;General Manager/VP&quot;</td><td>[]</td><td>&quot;COMPLETED&quot;</td><td>&quot;Celeb Luxury, LLC&quot;</td><td>&quot;celebluxury.com&quot;</td><td>&quot;corr@celebluxury.com&quot;</td><td>&quot;VALID&quot;</td></tr><tr><td>&quot;4076&quot;</td><td>&quot;C.J.&quot;</td><td>&quot;Brown&quot;</td><td>&quot;https://linkedin.com/in/cjbrow…</td><td>&quot;Vice President, Marketing, Ana…</td><td>[]</td><td>&quot;COMPLETED&quot;</td><td>&quot;Campbell&#x27;s&quot;</td><td>&quot;campbells.com&quot;</td><td>&quot;cj_brown@campbells.com&quot;</td><td>&quot;VALID&quot;</td></tr><tr><td>&quot;121581&quot;</td><td>&quot;Christine&quot;</td><td>&quot;Song&quot;</td><td>&quot;https://linkedin.com/in/christ…</td><td>&quot;VP, Keys Soulcare&quot;</td><td>[]</td><td>&quot;COMPLETED&quot;</td><td>&quot;E.L.F. BEAUTY&quot;</td><td>&quot;elfcosmetics.com&quot;</td><td>&quot;csong@elfcosmetics.com&quot;</td><td>&quot;VALID&quot;</td></tr><tr><td>&quot;4338&quot;</td><td>&quot;Martin&quot;</td><td>&quot;Michaelson&quot;</td><td>&quot;https://linkedin.com/in/martin…</td><td>&quot;Executive Director&quot;</td><td>[]</td><td>&quot;COMPLETED&quot;</td><td>&quot;Wells Fargo&quot;</td><td>&quot;wellsfargo.com&quot;</td><td>&quot;martin.michaelson@wellsfargo.c…</td><td>&quot;VALID&quot;</td></tr></tbody></table></div>"
      ],
      "text/plain": [
       "shape: (100, 11)\n",
       "┌───────────┬───────────┬───────────┬───────────┬───┬───────────┬───────────┬───────────┬──────────┐\n",
       "│ externalI ┆ firstName ┆ lastName  ┆ linkedInU ┆ … ┆ companyNa ┆ companyDo ┆ email     ┆ validati │\n",
       "│ D         ┆ ---       ┆ ---       ┆ rl        ┆   ┆ me        ┆ main      ┆ ---       ┆ onStatus │\n",
       "│ ---       ┆ str       ┆ str       ┆ ---       ┆   ┆ ---       ┆ ---       ┆ str       ┆ ---      │\n",
       "│ str       ┆           ┆           ┆ str       ┆   ┆ str       ┆ str       ┆           ┆ str      │\n",
       "╞═══════════╪═══════════╪═══════════╪═══════════╪═══╪═══════════╪═══════════╪═══════════╪══════════╡\n",
       "│ 4868      ┆ Anna      ┆ Eide      ┆ https://l ┆ … ┆ null      ┆ null      ┆ null      ┆ null     │\n",
       "│           ┆           ┆           ┆ inkedin.c ┆   ┆           ┆           ┆           ┆          │\n",
       "│           ┆           ┆           ┆ om/in/ane ┆   ┆           ┆           ┆           ┆          │\n",
       "│           ┆           ┆           ┆ ide       ┆   ┆           ┆           ┆           ┆          │\n",
       "│ 18675480  ┆ Stephanie ┆ Meals     ┆ https://l ┆ … ┆ General   ┆ generalmi ┆ stephanie ┆ VALID    │\n",
       "│           ┆           ┆           ┆ inkedin.c ┆   ┆ Mills     ┆ lls.com   ┆ .meals@ge ┆          │\n",
       "│           ┆           ┆           ┆ om/in/sme ┆   ┆           ┆           ┆ neralmill ┆          │\n",
       "│           ┆           ┆           ┆ als       ┆   ┆           ┆           ┆ s.c…      ┆          │\n",
       "│ 121604    ┆ Laszlo    ┆ Tikk      ┆ https://l ┆ … ┆ Blommer   ┆ blommer.c ┆ ltikk@blo ┆ VALID    │\n",
       "│           ┆           ┆           ┆ inkedin.c ┆   ┆ Chocolate ┆ om        ┆ mmer.com  ┆          │\n",
       "│           ┆           ┆           ┆ om/in/las ┆   ┆ Company   ┆           ┆           ┆          │\n",
       "│           ┆           ┆           ┆ zlo…      ┆   ┆           ┆           ┆           ┆          │\n",
       "│ 24058980  ┆ Tammy     ┆ Butterwor ┆ https://l ┆ … ┆ Welch's   ┆ welchs.co ┆ tbutterwo ┆ CATCH_AL │\n",
       "│           ┆           ┆ th        ┆ inkedin.c ┆   ┆           ┆ m         ┆ rth@welch ┆ L        │\n",
       "│           ┆           ┆           ┆ om/in/tam ┆   ┆           ┆           ┆ s.com     ┆          │\n",
       "│           ┆           ┆           ┆ myb…      ┆   ┆           ┆           ┆           ┆          │\n",
       "│ 515473566 ┆ Joel      ┆ White     ┆ https://l ┆ … ┆ The       ┆ thegenuin ┆ jwhite@th ┆ VALID    │\n",
       "│ 4         ┆           ┆           ┆ inkedin.c ┆   ┆ Genuine   ┆ ehospital ┆ egenuineh ┆          │\n",
       "│           ┆           ┆           ┆ om/in/joe ┆   ┆ Hospitali ┆ itygroup. ┆ ospitalit ┆          │\n",
       "│           ┆           ┆           ┆ lwh…      ┆   ┆ ty Group  ┆ com       ┆ ygr…      ┆          │\n",
       "│ …         ┆ …         ┆ …         ┆ …         ┆ … ┆ …         ┆ …         ┆ …         ┆ …        │\n",
       "│ 11241     ┆ Michelle  ┆ Thevil    ┆ https://l ┆ … ┆ Salesforc ┆ salesforc ┆ michelle. ┆ VALID    │\n",
       "│           ┆           ┆           ┆ inkedin.c ┆   ┆ e         ┆ e.com     ┆ mcdonald@ ┆          │\n",
       "│           ┆           ┆           ┆ om/in/mic ┆   ┆           ┆           ┆ salesforc ┆          │\n",
       "│           ┆           ┆           ┆ hel…      ┆   ┆           ┆           ┆ e.c…      ┆          │\n",
       "│ 4075      ┆ Cindy     ┆ Orr       ┆ https://l ┆ … ┆ Celeb     ┆ celebluxu ┆ corr@cele ┆ VALID    │\n",
       "│           ┆           ┆           ┆ inkedin.c ┆   ┆ Luxury,   ┆ ry.com    ┆ bluxury.c ┆          │\n",
       "│           ┆           ┆           ┆ om/in/cin ┆   ┆ LLC       ┆           ┆ om        ┆          │\n",
       "│           ┆           ┆           ┆ dy-…      ┆   ┆           ┆           ┆           ┆          │\n",
       "│ 4076      ┆ C.J.      ┆ Brown     ┆ https://l ┆ … ┆ Campbell' ┆ campbells ┆ cj_brown@ ┆ VALID    │\n",
       "│           ┆           ┆           ┆ inkedin.c ┆   ┆ s         ┆ .com      ┆ campbells ┆          │\n",
       "│           ┆           ┆           ┆ om/in/cjb ┆   ┆           ┆           ┆ .com      ┆          │\n",
       "│           ┆           ┆           ┆ row…      ┆   ┆           ┆           ┆           ┆          │\n",
       "│ 121581    ┆ Christine ┆ Song      ┆ https://l ┆ … ┆ E.L.F.    ┆ elfcosmet ┆ csong@elf ┆ VALID    │\n",
       "│           ┆           ┆           ┆ inkedin.c ┆   ┆ BEAUTY    ┆ ics.com   ┆ cosmetics ┆          │\n",
       "│           ┆           ┆           ┆ om/in/chr ┆   ┆           ┆           ┆ .com      ┆          │\n",
       "│           ┆           ┆           ┆ ist…      ┆   ┆           ┆           ┆           ┆          │\n",
       "│ 4338      ┆ Martin    ┆ Michaelso ┆ https://l ┆ … ┆ Wells     ┆ wellsfarg ┆ martin.mi ┆ VALID    │\n",
       "│           ┆           ┆ n         ┆ inkedin.c ┆   ┆ Fargo     ┆ o.com     ┆ chaelson@ ┆          │\n",
       "│           ┆           ┆           ┆ om/in/mar ┆   ┆           ┆           ┆ wellsfarg ┆          │\n",
       "│           ┆           ┆           ┆ tin…      ┆   ┆           ┆           ┆ o.c…      ┆          │\n",
       "└───────────┴───────────┴───────────┴───────────┴───┴───────────┴───────────┴───────────┴──────────┘"
      ]
     },
     "execution_count": 5,
     "metadata": {},
     "output_type": "execute_result"
    }
   ],
   "source": [
    "df2.select(pl.exclude(\"emails\"), pl.col(\"emails\").explode().struct.unnest())"
   ]
  },
  {
   "cell_type": "code",
   "execution_count": 6,
   "id": "1c733e56",
   "metadata": {},
   "outputs": [],
   "source": [
    "df3 = df1.join(df2, on=\"externalID\", suffix=\"_df2\")"
   ]
  },
  {
   "cell_type": "code",
   "execution_count": 7,
   "id": "a194557c",
   "metadata": {},
   "outputs": [
    {
     "data": {
      "text/html": [
       "<div><style>\n",
       ".dataframe > thead > tr,\n",
       ".dataframe > tbody > tr {\n",
       "  text-align: right;\n",
       "  white-space: pre-wrap;\n",
       "}\n",
       "</style>\n",
       "<small>shape: (100, 14)</small><table border=\"1\" class=\"dataframe\"><thead><tr><th>externalID</th><th>firstName</th><th>lastName</th><th>email</th><th>linkedInUrl</th><th>firstName_df2</th><th>lastName_df2</th><th>linkedInUrl_df2</th><th>jobTitle</th><th>emails</th><th>mobilePhones</th><th>status</th><th>companyName</th><th>companyDomain</th></tr><tr><td>str</td><td>str</td><td>str</td><td>str</td><td>str</td><td>str</td><td>str</td><td>str</td><td>str</td><td>list[struct[2]]</td><td>list[null]</td><td>str</td><td>str</td><td>str</td></tr></thead><tbody><tr><td>&quot;4868&quot;</td><td>&quot;Anna&quot;</td><td>&quot;Eide&quot;</td><td>&quot;eidea@worldkitchen.com&quot;</td><td>&quot;https://www.linkedin.com/in/an…</td><td>&quot;Anna&quot;</td><td>&quot;Eide&quot;</td><td>&quot;https://linkedin.com/in/aneide&quot;</td><td>&quot;Founder and Principal Design C…</td><td>null</td><td>[]</td><td>&quot;COMPLETED&quot;</td><td>null</td><td>null</td></tr><tr><td>&quot;18675480&quot;</td><td>&quot;Stephanie&quot;</td><td>&quot;Meals&quot;</td><td>&quot;stephanie.meals@pepsico.com&quot;</td><td>&quot;https://www.linkedin.com/in/sm…</td><td>&quot;Stephanie&quot;</td><td>&quot;Meals&quot;</td><td>&quot;https://linkedin.com/in/smeals&quot;</td><td>&quot;Consumer Insights Associate Ma…</td><td>[{&quot;stephanie.meals@generalmills.com&quot;,&quot;VALID&quot;}]</td><td>[]</td><td>&quot;COMPLETED&quot;</td><td>&quot;General Mills&quot;</td><td>&quot;generalmills.com&quot;</td></tr><tr><td>&quot;121604&quot;</td><td>&quot;Laszlo&quot;</td><td>&quot;Tikk&quot;</td><td>&quot;ltikk@marzetti.com&quot;</td><td>&quot;https://www.linkedin.com/in/la…</td><td>&quot;Laszlo&quot;</td><td>&quot;Tikk&quot;</td><td>&quot;https://linkedin.com/in/laszlo…</td><td>&quot;General Manager&quot;</td><td>[{&quot;ltikk@blommer.com&quot;,&quot;VALID&quot;}]</td><td>[]</td><td>&quot;COMPLETED&quot;</td><td>&quot;Blommer Chocolate Company&quot;</td><td>&quot;blommer.com&quot;</td></tr><tr><td>&quot;24058980&quot;</td><td>&quot;Tammy&quot;</td><td>&quot;Butterworth&quot;</td><td>&quot;tammy.butterworth@pepsico.com&quot;</td><td>&quot;https://www.linkedin.com/in/ta…</td><td>&quot;Tammy&quot;</td><td>&quot;Butterworth&quot;</td><td>&quot;https://linkedin.com/in/tammyb…</td><td>&quot;Product Innovation Director&quot;</td><td>[{&quot;tbutterworth@welchs.com&quot;,&quot;CATCH_ALL&quot;}]</td><td>[]</td><td>&quot;COMPLETED&quot;</td><td>&quot;Welch&#x27;s&quot;</td><td>&quot;welchs.com&quot;</td></tr><tr><td>&quot;5154735664&quot;</td><td>&quot;Joel&quot;</td><td>&quot;White&quot;</td><td>&quot;joel.white@gmcr.com&quot;</td><td>&quot;https://www.linkedin.com/in/jo…</td><td>&quot;Joel&quot;</td><td>&quot;White&quot;</td><td>&quot;https://linkedin.com/in/joelwh…</td><td>&quot;Vice President Of Marketing&quot;</td><td>[{&quot;jwhite@thegenuinehospitalitygroup.com&quot;,&quot;VALID&quot;}]</td><td>[]</td><td>&quot;COMPLETED&quot;</td><td>&quot;The Genuine Hospitality Group&quot;</td><td>&quot;thegenuinehospitalitygroup.com&quot;</td></tr><tr><td>&hellip;</td><td>&hellip;</td><td>&hellip;</td><td>&hellip;</td><td>&hellip;</td><td>&hellip;</td><td>&hellip;</td><td>&hellip;</td><td>&hellip;</td><td>&hellip;</td><td>&hellip;</td><td>&hellip;</td><td>&hellip;</td><td>&hellip;</td></tr><tr><td>&quot;11241&quot;</td><td>&quot;Michelle&quot;</td><td>&quot;Thevil&quot;</td><td>&quot;mthevil@kashi.com&quot;</td><td>&quot;https://www.linkedin.com/in/mi…</td><td>&quot;Michelle&quot;</td><td>&quot;Thevil&quot;</td><td>&quot;https://linkedin.com/in/michel…</td><td>&quot;Principal UX Researcher&quot;</td><td>[{&quot;michelle.mcdonald@salesforce.com&quot;,&quot;VALID&quot;}]</td><td>[]</td><td>&quot;COMPLETED&quot;</td><td>&quot;Salesforce&quot;</td><td>&quot;salesforce.com&quot;</td></tr><tr><td>&quot;4075&quot;</td><td>&quot;Cindy&quot;</td><td>&quot;Orr&quot;</td><td>&quot;corr@aveda.com&quot;</td><td>&quot;https://www.linkedin.com/in/ci…</td><td>&quot;Cindy&quot;</td><td>&quot;Orr&quot;</td><td>&quot;https://linkedin.com/in/cindy-…</td><td>&quot;General Manager/VP&quot;</td><td>[{&quot;corr@celebluxury.com&quot;,&quot;VALID&quot;}]</td><td>[]</td><td>&quot;COMPLETED&quot;</td><td>&quot;Celeb Luxury, LLC&quot;</td><td>&quot;celebluxury.com&quot;</td></tr><tr><td>&quot;4076&quot;</td><td>&quot;C.J.&quot;</td><td>&quot;Brown&quot;</td><td>&quot;brown.c@pg.com&quot;</td><td>&quot;https://www.linkedin.com/in/cj…</td><td>&quot;C.J.&quot;</td><td>&quot;Brown&quot;</td><td>&quot;https://linkedin.com/in/cjbrow…</td><td>&quot;Vice President, Marketing, Ana…</td><td>[{&quot;cj_brown@campbells.com&quot;,&quot;VALID&quot;}]</td><td>[]</td><td>&quot;COMPLETED&quot;</td><td>&quot;Campbell&#x27;s&quot;</td><td>&quot;campbells.com&quot;</td></tr><tr><td>&quot;121581&quot;</td><td>&quot;Christine&quot;</td><td>&quot;Song&quot;</td><td>&quot;csong@estee.com&quot;</td><td>&quot;https://www.linkedin.com/in/ch…</td><td>&quot;Christine&quot;</td><td>&quot;Song&quot;</td><td>&quot;https://linkedin.com/in/christ…</td><td>&quot;VP, Keys Soulcare&quot;</td><td>[{&quot;csong@elfcosmetics.com&quot;,&quot;VALID&quot;}]</td><td>[]</td><td>&quot;COMPLETED&quot;</td><td>&quot;E.L.F. BEAUTY&quot;</td><td>&quot;elfcosmetics.com&quot;</td></tr><tr><td>&quot;4338&quot;</td><td>&quot;Martin&quot;</td><td>&quot;Michaelson&quot;</td><td>&quot;martin.michaelson@wachovia.com&quot;</td><td>&quot;https://www.linkedin.com/in/ma…</td><td>&quot;Martin&quot;</td><td>&quot;Michaelson&quot;</td><td>&quot;https://linkedin.com/in/martin…</td><td>&quot;Executive Director&quot;</td><td>[{&quot;martin.michaelson@wellsfargo.com&quot;,&quot;VALID&quot;}]</td><td>[]</td><td>&quot;COMPLETED&quot;</td><td>&quot;Wells Fargo&quot;</td><td>&quot;wellsfargo.com&quot;</td></tr></tbody></table></div>"
      ],
      "text/plain": [
       "shape: (100, 14)\n",
       "┌───────────┬───────────┬───────────┬───────────┬───┬───────────┬───────────┬───────────┬──────────┐\n",
       "│ externalI ┆ firstName ┆ lastName  ┆ email     ┆ … ┆ mobilePho ┆ status    ┆ companyNa ┆ companyD │\n",
       "│ D         ┆ ---       ┆ ---       ┆ ---       ┆   ┆ nes       ┆ ---       ┆ me        ┆ omain    │\n",
       "│ ---       ┆ str       ┆ str       ┆ str       ┆   ┆ ---       ┆ str       ┆ ---       ┆ ---      │\n",
       "│ str       ┆           ┆           ┆           ┆   ┆ list[null ┆           ┆ str       ┆ str      │\n",
       "│           ┆           ┆           ┆           ┆   ┆ ]         ┆           ┆           ┆          │\n",
       "╞═══════════╪═══════════╪═══════════╪═══════════╪═══╪═══════════╪═══════════╪═══════════╪══════════╡\n",
       "│ 4868      ┆ Anna      ┆ Eide      ┆ eidea@wor ┆ … ┆ []        ┆ COMPLETED ┆ null      ┆ null     │\n",
       "│           ┆           ┆           ┆ ldkitchen ┆   ┆           ┆           ┆           ┆          │\n",
       "│           ┆           ┆           ┆ .com      ┆   ┆           ┆           ┆           ┆          │\n",
       "│ 18675480  ┆ Stephanie ┆ Meals     ┆ stephanie ┆ … ┆ []        ┆ COMPLETED ┆ General   ┆ generalm │\n",
       "│           ┆           ┆           ┆ .meals@pe ┆   ┆           ┆           ┆ Mills     ┆ ills.com │\n",
       "│           ┆           ┆           ┆ psico.com ┆   ┆           ┆           ┆           ┆          │\n",
       "│ 121604    ┆ Laszlo    ┆ Tikk      ┆ ltikk@mar ┆ … ┆ []        ┆ COMPLETED ┆ Blommer   ┆ blommer. │\n",
       "│           ┆           ┆           ┆ zetti.com ┆   ┆           ┆           ┆ Chocolate ┆ com      │\n",
       "│           ┆           ┆           ┆           ┆   ┆           ┆           ┆ Company   ┆          │\n",
       "│ 24058980  ┆ Tammy     ┆ Butterwor ┆ tammy.but ┆ … ┆ []        ┆ COMPLETED ┆ Welch's   ┆ welchs.c │\n",
       "│           ┆           ┆ th        ┆ terworth@ ┆   ┆           ┆           ┆           ┆ om       │\n",
       "│           ┆           ┆           ┆ pepsico.c ┆   ┆           ┆           ┆           ┆          │\n",
       "│           ┆           ┆           ┆ om        ┆   ┆           ┆           ┆           ┆          │\n",
       "│ 515473566 ┆ Joel      ┆ White     ┆ joel.whit ┆ … ┆ []        ┆ COMPLETED ┆ The       ┆ thegenui │\n",
       "│ 4         ┆           ┆           ┆ e@gmcr.co ┆   ┆           ┆           ┆ Genuine   ┆ nehospit │\n",
       "│           ┆           ┆           ┆ m         ┆   ┆           ┆           ┆ Hospitali ┆ alitygro │\n",
       "│           ┆           ┆           ┆           ┆   ┆           ┆           ┆ ty Group  ┆ up.com   │\n",
       "│ …         ┆ …         ┆ …         ┆ …         ┆ … ┆ …         ┆ …         ┆ …         ┆ …        │\n",
       "│ 11241     ┆ Michelle  ┆ Thevil    ┆ mthevil@k ┆ … ┆ []        ┆ COMPLETED ┆ Salesforc ┆ salesfor │\n",
       "│           ┆           ┆           ┆ ashi.com  ┆   ┆           ┆           ┆ e         ┆ ce.com   │\n",
       "│ 4075      ┆ Cindy     ┆ Orr       ┆ corr@aved ┆ … ┆ []        ┆ COMPLETED ┆ Celeb     ┆ celeblux │\n",
       "│           ┆           ┆           ┆ a.com     ┆   ┆           ┆           ┆ Luxury,   ┆ ury.com  │\n",
       "│           ┆           ┆           ┆           ┆   ┆           ┆           ┆ LLC       ┆          │\n",
       "│ 4076      ┆ C.J.      ┆ Brown     ┆ brown.c@p ┆ … ┆ []        ┆ COMPLETED ┆ Campbell' ┆ campbell │\n",
       "│           ┆           ┆           ┆ g.com     ┆   ┆           ┆           ┆ s         ┆ s.com    │\n",
       "│ 121581    ┆ Christine ┆ Song      ┆ csong@est ┆ … ┆ []        ┆ COMPLETED ┆ E.L.F.    ┆ elfcosme │\n",
       "│           ┆           ┆           ┆ ee.com    ┆   ┆           ┆           ┆ BEAUTY    ┆ tics.com │\n",
       "│ 4338      ┆ Martin    ┆ Michaelso ┆ martin.mi ┆ … ┆ []        ┆ COMPLETED ┆ Wells     ┆ wellsfar │\n",
       "│           ┆           ┆ n         ┆ chaelson@ ┆   ┆           ┆           ┆ Fargo     ┆ go.com   │\n",
       "│           ┆           ┆           ┆ wachovia. ┆   ┆           ┆           ┆           ┆          │\n",
       "│           ┆           ┆           ┆ com       ┆   ┆           ┆           ┆           ┆          │\n",
       "└───────────┴───────────┴───────────┴───────────┴───┴───────────┴───────────┴───────────┴──────────┘"
      ]
     },
     "execution_count": 7,
     "metadata": {},
     "output_type": "execute_result"
    }
   ],
   "source": [
    "df3"
   ]
  },
  {
   "cell_type": "code",
   "execution_count": 8,
   "id": "0f3df1b8",
   "metadata": {},
   "outputs": [],
   "source": [
    "df3x = df3.select(pl.exclude(\"emails\", \"email\"), pl.col(\"email\").alias(\"email_df1\"), pl.col(\"emails\").explode().struct.unnest()).select(pl.exclude(\"email\"), pl.col(\"email\").alias(\"email_df2\")).filter(pl.col(\"validationStatus\").is_in([\"VALID\", \"CATCH_ALL\"]))"
   ]
  },
  {
   "cell_type": "code",
   "execution_count": 9,
   "id": "6b59ec53",
   "metadata": {},
   "outputs": [
    {
     "data": {
      "text/html": [
       "<div><style>\n",
       ".dataframe > thead > tr,\n",
       ".dataframe > tbody > tr {\n",
       "  text-align: right;\n",
       "  white-space: pre-wrap;\n",
       "}\n",
       "</style>\n",
       "<small>shape: (82, 15)</small><table border=\"1\" class=\"dataframe\"><thead><tr><th>externalID</th><th>firstName</th><th>lastName</th><th>linkedInUrl</th><th>firstName_df2</th><th>lastName_df2</th><th>linkedInUrl_df2</th><th>jobTitle</th><th>mobilePhones</th><th>status</th><th>companyName</th><th>companyDomain</th><th>email_df1</th><th>validationStatus</th><th>email_df2</th></tr><tr><td>str</td><td>str</td><td>str</td><td>str</td><td>str</td><td>str</td><td>str</td><td>str</td><td>list[null]</td><td>str</td><td>str</td><td>str</td><td>str</td><td>str</td><td>str</td></tr></thead><tbody><tr><td>&quot;18675480&quot;</td><td>&quot;Stephanie&quot;</td><td>&quot;Meals&quot;</td><td>&quot;https://www.linkedin.com/in/sm…</td><td>&quot;Stephanie&quot;</td><td>&quot;Meals&quot;</td><td>&quot;https://linkedin.com/in/smeals&quot;</td><td>&quot;Consumer Insights Associate Ma…</td><td>[]</td><td>&quot;COMPLETED&quot;</td><td>&quot;General Mills&quot;</td><td>&quot;generalmills.com&quot;</td><td>&quot;stephanie.meals@pepsico.com&quot;</td><td>&quot;VALID&quot;</td><td>&quot;stephanie.meals@generalmills.c…</td></tr><tr><td>&quot;121604&quot;</td><td>&quot;Laszlo&quot;</td><td>&quot;Tikk&quot;</td><td>&quot;https://www.linkedin.com/in/la…</td><td>&quot;Laszlo&quot;</td><td>&quot;Tikk&quot;</td><td>&quot;https://linkedin.com/in/laszlo…</td><td>&quot;General Manager&quot;</td><td>[]</td><td>&quot;COMPLETED&quot;</td><td>&quot;Blommer Chocolate Company&quot;</td><td>&quot;blommer.com&quot;</td><td>&quot;ltikk@marzetti.com&quot;</td><td>&quot;VALID&quot;</td><td>&quot;ltikk@blommer.com&quot;</td></tr><tr><td>&quot;24058980&quot;</td><td>&quot;Tammy&quot;</td><td>&quot;Butterworth&quot;</td><td>&quot;https://www.linkedin.com/in/ta…</td><td>&quot;Tammy&quot;</td><td>&quot;Butterworth&quot;</td><td>&quot;https://linkedin.com/in/tammyb…</td><td>&quot;Product Innovation Director&quot;</td><td>[]</td><td>&quot;COMPLETED&quot;</td><td>&quot;Welch&#x27;s&quot;</td><td>&quot;welchs.com&quot;</td><td>&quot;tammy.butterworth@pepsico.com&quot;</td><td>&quot;CATCH_ALL&quot;</td><td>&quot;tbutterworth@welchs.com&quot;</td></tr><tr><td>&quot;5154735664&quot;</td><td>&quot;Joel&quot;</td><td>&quot;White&quot;</td><td>&quot;https://www.linkedin.com/in/jo…</td><td>&quot;Joel&quot;</td><td>&quot;White&quot;</td><td>&quot;https://linkedin.com/in/joelwh…</td><td>&quot;Vice President Of Marketing&quot;</td><td>[]</td><td>&quot;COMPLETED&quot;</td><td>&quot;The Genuine Hospitality Group&quot;</td><td>&quot;thegenuinehospitalitygroup.com&quot;</td><td>&quot;joel.white@gmcr.com&quot;</td><td>&quot;VALID&quot;</td><td>&quot;jwhite@thegenuinehospitalitygr…</td></tr><tr><td>&quot;5154734126&quot;</td><td>&quot;Drew&quot;</td><td>&quot;Mantek&quot;</td><td>&quot;https://www.linkedin.com/in/an…</td><td>&quot;Drew&quot;</td><td>&quot;Mantek&quot;</td><td>&quot;https://linkedin.com/in/andrew…</td><td>&quot;Head of Global Marketing, Medi…</td><td>[]</td><td>&quot;COMPLETED&quot;</td><td>&quot;Vitaflo International - A Nest…</td><td>&quot;vitaflo.co&quot;</td><td>&quot;drew.mantek@bayer.com&quot;</td><td>&quot;VALID&quot;</td><td>&quot;karen.kersten@ektello.com&quot;</td></tr><tr><td>&hellip;</td><td>&hellip;</td><td>&hellip;</td><td>&hellip;</td><td>&hellip;</td><td>&hellip;</td><td>&hellip;</td><td>&hellip;</td><td>&hellip;</td><td>&hellip;</td><td>&hellip;</td><td>&hellip;</td><td>&hellip;</td><td>&hellip;</td><td>&hellip;</td></tr><tr><td>&quot;11241&quot;</td><td>&quot;Michelle&quot;</td><td>&quot;Thevil&quot;</td><td>&quot;https://www.linkedin.com/in/mi…</td><td>&quot;Michelle&quot;</td><td>&quot;Thevil&quot;</td><td>&quot;https://linkedin.com/in/michel…</td><td>&quot;Principal UX Researcher&quot;</td><td>[]</td><td>&quot;COMPLETED&quot;</td><td>&quot;Salesforce&quot;</td><td>&quot;salesforce.com&quot;</td><td>&quot;mthevil@kashi.com&quot;</td><td>&quot;VALID&quot;</td><td>&quot;michelle.mcdonald@salesforce.c…</td></tr><tr><td>&quot;4075&quot;</td><td>&quot;Cindy&quot;</td><td>&quot;Orr&quot;</td><td>&quot;https://www.linkedin.com/in/ci…</td><td>&quot;Cindy&quot;</td><td>&quot;Orr&quot;</td><td>&quot;https://linkedin.com/in/cindy-…</td><td>&quot;General Manager/VP&quot;</td><td>[]</td><td>&quot;COMPLETED&quot;</td><td>&quot;Celeb Luxury, LLC&quot;</td><td>&quot;celebluxury.com&quot;</td><td>&quot;corr@aveda.com&quot;</td><td>&quot;VALID&quot;</td><td>&quot;corr@celebluxury.com&quot;</td></tr><tr><td>&quot;4076&quot;</td><td>&quot;C.J.&quot;</td><td>&quot;Brown&quot;</td><td>&quot;https://www.linkedin.com/in/cj…</td><td>&quot;C.J.&quot;</td><td>&quot;Brown&quot;</td><td>&quot;https://linkedin.com/in/cjbrow…</td><td>&quot;Vice President, Marketing, Ana…</td><td>[]</td><td>&quot;COMPLETED&quot;</td><td>&quot;Campbell&#x27;s&quot;</td><td>&quot;campbells.com&quot;</td><td>&quot;brown.c@pg.com&quot;</td><td>&quot;VALID&quot;</td><td>&quot;cj_brown@campbells.com&quot;</td></tr><tr><td>&quot;121581&quot;</td><td>&quot;Christine&quot;</td><td>&quot;Song&quot;</td><td>&quot;https://www.linkedin.com/in/ch…</td><td>&quot;Christine&quot;</td><td>&quot;Song&quot;</td><td>&quot;https://linkedin.com/in/christ…</td><td>&quot;VP, Keys Soulcare&quot;</td><td>[]</td><td>&quot;COMPLETED&quot;</td><td>&quot;E.L.F. BEAUTY&quot;</td><td>&quot;elfcosmetics.com&quot;</td><td>&quot;csong@estee.com&quot;</td><td>&quot;VALID&quot;</td><td>&quot;csong@elfcosmetics.com&quot;</td></tr><tr><td>&quot;4338&quot;</td><td>&quot;Martin&quot;</td><td>&quot;Michaelson&quot;</td><td>&quot;https://www.linkedin.com/in/ma…</td><td>&quot;Martin&quot;</td><td>&quot;Michaelson&quot;</td><td>&quot;https://linkedin.com/in/martin…</td><td>&quot;Executive Director&quot;</td><td>[]</td><td>&quot;COMPLETED&quot;</td><td>&quot;Wells Fargo&quot;</td><td>&quot;wellsfargo.com&quot;</td><td>&quot;martin.michaelson@wachovia.com&quot;</td><td>&quot;VALID&quot;</td><td>&quot;martin.michaelson@wellsfargo.c…</td></tr></tbody></table></div>"
      ],
      "text/plain": [
       "shape: (82, 15)\n",
       "┌───────────┬───────────┬───────────┬───────────┬───┬───────────┬───────────┬───────────┬──────────┐\n",
       "│ externalI ┆ firstName ┆ lastName  ┆ linkedInU ┆ … ┆ companyDo ┆ email_df1 ┆ validatio ┆ email_df │\n",
       "│ D         ┆ ---       ┆ ---       ┆ rl        ┆   ┆ main      ┆ ---       ┆ nStatus   ┆ 2        │\n",
       "│ ---       ┆ str       ┆ str       ┆ ---       ┆   ┆ ---       ┆ str       ┆ ---       ┆ ---      │\n",
       "│ str       ┆           ┆           ┆ str       ┆   ┆ str       ┆           ┆ str       ┆ str      │\n",
       "╞═══════════╪═══════════╪═══════════╪═══════════╪═══╪═══════════╪═══════════╪═══════════╪══════════╡\n",
       "│ 18675480  ┆ Stephanie ┆ Meals     ┆ https://w ┆ … ┆ generalmi ┆ stephanie ┆ VALID     ┆ stephani │\n",
       "│           ┆           ┆           ┆ ww.linked ┆   ┆ lls.com   ┆ .meals@pe ┆           ┆ e.meals@ │\n",
       "│           ┆           ┆           ┆ in.com/in ┆   ┆           ┆ psico.com ┆           ┆ generalm │\n",
       "│           ┆           ┆           ┆ /sm…      ┆   ┆           ┆           ┆           ┆ ills.c…  │\n",
       "│ 121604    ┆ Laszlo    ┆ Tikk      ┆ https://w ┆ … ┆ blommer.c ┆ ltikk@mar ┆ VALID     ┆ ltikk@bl │\n",
       "│           ┆           ┆           ┆ ww.linked ┆   ┆ om        ┆ zetti.com ┆           ┆ ommer.co │\n",
       "│           ┆           ┆           ┆ in.com/in ┆   ┆           ┆           ┆           ┆ m        │\n",
       "│           ┆           ┆           ┆ /la…      ┆   ┆           ┆           ┆           ┆          │\n",
       "│ 24058980  ┆ Tammy     ┆ Butterwor ┆ https://w ┆ … ┆ welchs.co ┆ tammy.but ┆ CATCH_ALL ┆ tbutterw │\n",
       "│           ┆           ┆ th        ┆ ww.linked ┆   ┆ m         ┆ terworth@ ┆           ┆ orth@wel │\n",
       "│           ┆           ┆           ┆ in.com/in ┆   ┆           ┆ pepsico.c ┆           ┆ chs.com  │\n",
       "│           ┆           ┆           ┆ /ta…      ┆   ┆           ┆ om        ┆           ┆          │\n",
       "│ 515473566 ┆ Joel      ┆ White     ┆ https://w ┆ … ┆ thegenuin ┆ joel.whit ┆ VALID     ┆ jwhite@t │\n",
       "│ 4         ┆           ┆           ┆ ww.linked ┆   ┆ ehospital ┆ e@gmcr.co ┆           ┆ hegenuin │\n",
       "│           ┆           ┆           ┆ in.com/in ┆   ┆ itygroup. ┆ m         ┆           ┆ ehospita │\n",
       "│           ┆           ┆           ┆ /jo…      ┆   ┆ com       ┆           ┆           ┆ litygr…  │\n",
       "│ 515473412 ┆ Drew      ┆ Mantek    ┆ https://w ┆ … ┆ vitaflo.c ┆ drew.mant ┆ VALID     ┆ karen.ke │\n",
       "│ 6         ┆           ┆           ┆ ww.linked ┆   ┆ o         ┆ ek@bayer. ┆           ┆ rsten@ek │\n",
       "│           ┆           ┆           ┆ in.com/in ┆   ┆           ┆ com       ┆           ┆ tello.co │\n",
       "│           ┆           ┆           ┆ /an…      ┆   ┆           ┆           ┆           ┆ m        │\n",
       "│ …         ┆ …         ┆ …         ┆ …         ┆ … ┆ …         ┆ …         ┆ …         ┆ …        │\n",
       "│ 11241     ┆ Michelle  ┆ Thevil    ┆ https://w ┆ … ┆ salesforc ┆ mthevil@k ┆ VALID     ┆ michelle │\n",
       "│           ┆           ┆           ┆ ww.linked ┆   ┆ e.com     ┆ ashi.com  ┆           ┆ .mcdonal │\n",
       "│           ┆           ┆           ┆ in.com/in ┆   ┆           ┆           ┆           ┆ d@salesf │\n",
       "│           ┆           ┆           ┆ /mi…      ┆   ┆           ┆           ┆           ┆ orce.c…  │\n",
       "│ 4075      ┆ Cindy     ┆ Orr       ┆ https://w ┆ … ┆ celebluxu ┆ corr@aved ┆ VALID     ┆ corr@cel │\n",
       "│           ┆           ┆           ┆ ww.linked ┆   ┆ ry.com    ┆ a.com     ┆           ┆ ebluxury │\n",
       "│           ┆           ┆           ┆ in.com/in ┆   ┆           ┆           ┆           ┆ .com     │\n",
       "│           ┆           ┆           ┆ /ci…      ┆   ┆           ┆           ┆           ┆          │\n",
       "│ 4076      ┆ C.J.      ┆ Brown     ┆ https://w ┆ … ┆ campbells ┆ brown.c@p ┆ VALID     ┆ cj_brown │\n",
       "│           ┆           ┆           ┆ ww.linked ┆   ┆ .com      ┆ g.com     ┆           ┆ @campbel │\n",
       "│           ┆           ┆           ┆ in.com/in ┆   ┆           ┆           ┆           ┆ ls.com   │\n",
       "│           ┆           ┆           ┆ /cj…      ┆   ┆           ┆           ┆           ┆          │\n",
       "│ 121581    ┆ Christine ┆ Song      ┆ https://w ┆ … ┆ elfcosmet ┆ csong@est ┆ VALID     ┆ csong@el │\n",
       "│           ┆           ┆           ┆ ww.linked ┆   ┆ ics.com   ┆ ee.com    ┆           ┆ fcosmeti │\n",
       "│           ┆           ┆           ┆ in.com/in ┆   ┆           ┆           ┆           ┆ cs.com   │\n",
       "│           ┆           ┆           ┆ /ch…      ┆   ┆           ┆           ┆           ┆          │\n",
       "│ 4338      ┆ Martin    ┆ Michaelso ┆ https://w ┆ … ┆ wellsfarg ┆ martin.mi ┆ VALID     ┆ martin.m │\n",
       "│           ┆           ┆ n         ┆ ww.linked ┆   ┆ o.com     ┆ chaelson@ ┆           ┆ ichaelso │\n",
       "│           ┆           ┆           ┆ in.com/in ┆   ┆           ┆ wachovia. ┆           ┆ n@wellsf │\n",
       "│           ┆           ┆           ┆ /ma…      ┆   ┆           ┆ com       ┆           ┆ argo.c…  │\n",
       "└───────────┴───────────┴───────────┴───────────┴───┴───────────┴───────────┴───────────┴──────────┘"
      ]
     },
     "execution_count": 9,
     "metadata": {},
     "output_type": "execute_result"
    }
   ],
   "source": [
    "df3x"
   ]
  },
  {
   "cell_type": "code",
   "execution_count": 10,
   "id": "da8366db",
   "metadata": {},
   "outputs": [
    {
     "data": {
      "text/html": [
       "<div><style>\n",
       ".dataframe > thead > tr,\n",
       ".dataframe > tbody > tr {\n",
       "  text-align: right;\n",
       "  white-space: pre-wrap;\n",
       "}\n",
       "</style>\n",
       "<small>shape: (82, 3)</small><table border=\"1\" class=\"dataframe\"><thead><tr><th>externalID</th><th>email_df2</th><th>validationStatus</th></tr><tr><td>str</td><td>list[str]</td><td>list[str]</td></tr></thead><tbody><tr><td>&quot;5154736928&quot;</td><td>[&quot;charlie.distefano@syensqo.com&quot;]</td><td>[&quot;VALID&quot;]</td></tr><tr><td>&quot;10336&quot;</td><td>[&quot;jeff.johnson@premiumsfortheplanet.com&quot;]</td><td>[&quot;VALID&quot;]</td></tr><tr><td>&quot;3101532&quot;</td><td>[&quot;otis.stroud@capitalone.com&quot;]</td><td>[&quot;CATCH_ALL&quot;]</td></tr><tr><td>&quot;24084730&quot;</td><td>[&quot;jennifer.ota@ritual.com&quot;]</td><td>[&quot;VALID&quot;]</td></tr><tr><td>&quot;9623&quot;</td><td>[&quot;julia.abram@tropicana.com&quot;]</td><td>[&quot;VALID&quot;]</td></tr><tr><td>&hellip;</td><td>&hellip;</td><td>&hellip;</td></tr><tr><td>&quot;11230&quot;</td><td>[&quot;melissa.tendick@barilla.com&quot;]</td><td>[&quot;VALID&quot;]</td></tr><tr><td>&quot;4010&quot;</td><td>[&quot;ann@hardhathomes.com&quot;]</td><td>[&quot;VALID&quot;]</td></tr><tr><td>&quot;5154841944&quot;</td><td>[&quot;jorge_cardenas@intuit.com&quot;]</td><td>[&quot;VALID&quot;]</td></tr><tr><td>&quot;4338&quot;</td><td>[&quot;martin.michaelson@wellsfargo.com&quot;]</td><td>[&quot;VALID&quot;]</td></tr><tr><td>&quot;5154735664&quot;</td><td>[&quot;jwhite@thegenuinehospitalitygroup.com&quot;]</td><td>[&quot;VALID&quot;]</td></tr></tbody></table></div>"
      ],
      "text/plain": [
       "shape: (82, 3)\n",
       "┌────────────┬─────────────────────────────────┬──────────────────┐\n",
       "│ externalID ┆ email_df2                       ┆ validationStatus │\n",
       "│ ---        ┆ ---                             ┆ ---              │\n",
       "│ str        ┆ list[str]                       ┆ list[str]        │\n",
       "╞════════════╪═════════════════════════════════╪══════════════════╡\n",
       "│ 5154736928 ┆ [\"charlie.distefano@syensqo.co… ┆ [\"VALID\"]        │\n",
       "│ 10336      ┆ [\"jeff.johnson@premiumsforthep… ┆ [\"VALID\"]        │\n",
       "│ 3101532    ┆ [\"otis.stroud@capitalone.com\"]  ┆ [\"CATCH_ALL\"]    │\n",
       "│ 24084730   ┆ [\"jennifer.ota@ritual.com\"]     ┆ [\"VALID\"]        │\n",
       "│ 9623       ┆ [\"julia.abram@tropicana.com\"]   ┆ [\"VALID\"]        │\n",
       "│ …          ┆ …                               ┆ …                │\n",
       "│ 11230      ┆ [\"melissa.tendick@barilla.com\"… ┆ [\"VALID\"]        │\n",
       "│ 4010       ┆ [\"ann@hardhathomes.com\"]        ┆ [\"VALID\"]        │\n",
       "│ 5154841944 ┆ [\"jorge_cardenas@intuit.com\"]   ┆ [\"VALID\"]        │\n",
       "│ 4338       ┆ [\"martin.michaelson@wellsfargo… ┆ [\"VALID\"]        │\n",
       "│ 5154735664 ┆ [\"jwhite@thegenuinehospitality… ┆ [\"VALID\"]        │\n",
       "└────────────┴─────────────────────────────────┴──────────────────┘"
      ]
     },
     "execution_count": 10,
     "metadata": {},
     "output_type": "execute_result"
    }
   ],
   "source": [
    "df_emails = df3x.group_by(\"externalID\").agg(pl.col(\"email_df2\"), pl.col(\"validationStatus\"))\n",
    "df_emails"
   ]
  },
  {
   "cell_type": "code",
   "execution_count": 11,
   "id": "70cac927",
   "metadata": {},
   "outputs": [
    {
     "data": {
      "text/html": [
       "<div><style>\n",
       ".dataframe > thead > tr,\n",
       ".dataframe > tbody > tr {\n",
       "  text-align: right;\n",
       "  white-space: pre-wrap;\n",
       "}\n",
       "</style>\n",
       "<small>shape: (100, 16)</small><table border=\"1\" class=\"dataframe\"><thead><tr><th>externalID</th><th>firstName</th><th>lastName</th><th>email</th><th>linkedInUrl</th><th>firstName_df2</th><th>lastName_df2</th><th>linkedInUrl_df2</th><th>jobTitle</th><th>emails</th><th>mobilePhones</th><th>status</th><th>companyName</th><th>companyDomain</th><th>email_df2</th><th>validationStatus</th></tr><tr><td>str</td><td>str</td><td>str</td><td>str</td><td>str</td><td>str</td><td>str</td><td>str</td><td>str</td><td>list[struct[2]]</td><td>list[null]</td><td>str</td><td>str</td><td>str</td><td>list[str]</td><td>list[str]</td></tr></thead><tbody><tr><td>&quot;4868&quot;</td><td>&quot;Anna&quot;</td><td>&quot;Eide&quot;</td><td>&quot;eidea@worldkitchen.com&quot;</td><td>&quot;https://www.linkedin.com/in/an…</td><td>&quot;Anna&quot;</td><td>&quot;Eide&quot;</td><td>&quot;https://linkedin.com/in/aneide&quot;</td><td>&quot;Founder and Principal Design C…</td><td>null</td><td>[]</td><td>&quot;COMPLETED&quot;</td><td>null</td><td>null</td><td>null</td><td>null</td></tr><tr><td>&quot;18675480&quot;</td><td>&quot;Stephanie&quot;</td><td>&quot;Meals&quot;</td><td>&quot;stephanie.meals@pepsico.com&quot;</td><td>&quot;https://www.linkedin.com/in/sm…</td><td>&quot;Stephanie&quot;</td><td>&quot;Meals&quot;</td><td>&quot;https://linkedin.com/in/smeals&quot;</td><td>&quot;Consumer Insights Associate Ma…</td><td>[{&quot;stephanie.meals@generalmills.com&quot;,&quot;VALID&quot;}]</td><td>[]</td><td>&quot;COMPLETED&quot;</td><td>&quot;General Mills&quot;</td><td>&quot;generalmills.com&quot;</td><td>[&quot;stephanie.meals@generalmills.com&quot;]</td><td>[&quot;VALID&quot;]</td></tr><tr><td>&quot;121604&quot;</td><td>&quot;Laszlo&quot;</td><td>&quot;Tikk&quot;</td><td>&quot;ltikk@marzetti.com&quot;</td><td>&quot;https://www.linkedin.com/in/la…</td><td>&quot;Laszlo&quot;</td><td>&quot;Tikk&quot;</td><td>&quot;https://linkedin.com/in/laszlo…</td><td>&quot;General Manager&quot;</td><td>[{&quot;ltikk@blommer.com&quot;,&quot;VALID&quot;}]</td><td>[]</td><td>&quot;COMPLETED&quot;</td><td>&quot;Blommer Chocolate Company&quot;</td><td>&quot;blommer.com&quot;</td><td>[&quot;ltikk@blommer.com&quot;]</td><td>[&quot;VALID&quot;]</td></tr><tr><td>&quot;24058980&quot;</td><td>&quot;Tammy&quot;</td><td>&quot;Butterworth&quot;</td><td>&quot;tammy.butterworth@pepsico.com&quot;</td><td>&quot;https://www.linkedin.com/in/ta…</td><td>&quot;Tammy&quot;</td><td>&quot;Butterworth&quot;</td><td>&quot;https://linkedin.com/in/tammyb…</td><td>&quot;Product Innovation Director&quot;</td><td>[{&quot;tbutterworth@welchs.com&quot;,&quot;CATCH_ALL&quot;}]</td><td>[]</td><td>&quot;COMPLETED&quot;</td><td>&quot;Welch&#x27;s&quot;</td><td>&quot;welchs.com&quot;</td><td>[&quot;tbutterworth@welchs.com&quot;]</td><td>[&quot;CATCH_ALL&quot;]</td></tr><tr><td>&quot;5154735664&quot;</td><td>&quot;Joel&quot;</td><td>&quot;White&quot;</td><td>&quot;joel.white@gmcr.com&quot;</td><td>&quot;https://www.linkedin.com/in/jo…</td><td>&quot;Joel&quot;</td><td>&quot;White&quot;</td><td>&quot;https://linkedin.com/in/joelwh…</td><td>&quot;Vice President Of Marketing&quot;</td><td>[{&quot;jwhite@thegenuinehospitalitygroup.com&quot;,&quot;VALID&quot;}]</td><td>[]</td><td>&quot;COMPLETED&quot;</td><td>&quot;The Genuine Hospitality Group&quot;</td><td>&quot;thegenuinehospitalitygroup.com&quot;</td><td>[&quot;jwhite@thegenuinehospitalitygroup.com&quot;]</td><td>[&quot;VALID&quot;]</td></tr><tr><td>&hellip;</td><td>&hellip;</td><td>&hellip;</td><td>&hellip;</td><td>&hellip;</td><td>&hellip;</td><td>&hellip;</td><td>&hellip;</td><td>&hellip;</td><td>&hellip;</td><td>&hellip;</td><td>&hellip;</td><td>&hellip;</td><td>&hellip;</td><td>&hellip;</td><td>&hellip;</td></tr><tr><td>&quot;11241&quot;</td><td>&quot;Michelle&quot;</td><td>&quot;Thevil&quot;</td><td>&quot;mthevil@kashi.com&quot;</td><td>&quot;https://www.linkedin.com/in/mi…</td><td>&quot;Michelle&quot;</td><td>&quot;Thevil&quot;</td><td>&quot;https://linkedin.com/in/michel…</td><td>&quot;Principal UX Researcher&quot;</td><td>[{&quot;michelle.mcdonald@salesforce.com&quot;,&quot;VALID&quot;}]</td><td>[]</td><td>&quot;COMPLETED&quot;</td><td>&quot;Salesforce&quot;</td><td>&quot;salesforce.com&quot;</td><td>[&quot;michelle.mcdonald@salesforce.com&quot;]</td><td>[&quot;VALID&quot;]</td></tr><tr><td>&quot;4075&quot;</td><td>&quot;Cindy&quot;</td><td>&quot;Orr&quot;</td><td>&quot;corr@aveda.com&quot;</td><td>&quot;https://www.linkedin.com/in/ci…</td><td>&quot;Cindy&quot;</td><td>&quot;Orr&quot;</td><td>&quot;https://linkedin.com/in/cindy-…</td><td>&quot;General Manager/VP&quot;</td><td>[{&quot;corr@celebluxury.com&quot;,&quot;VALID&quot;}]</td><td>[]</td><td>&quot;COMPLETED&quot;</td><td>&quot;Celeb Luxury, LLC&quot;</td><td>&quot;celebluxury.com&quot;</td><td>[&quot;corr@celebluxury.com&quot;]</td><td>[&quot;VALID&quot;]</td></tr><tr><td>&quot;4076&quot;</td><td>&quot;C.J.&quot;</td><td>&quot;Brown&quot;</td><td>&quot;brown.c@pg.com&quot;</td><td>&quot;https://www.linkedin.com/in/cj…</td><td>&quot;C.J.&quot;</td><td>&quot;Brown&quot;</td><td>&quot;https://linkedin.com/in/cjbrow…</td><td>&quot;Vice President, Marketing, Ana…</td><td>[{&quot;cj_brown@campbells.com&quot;,&quot;VALID&quot;}]</td><td>[]</td><td>&quot;COMPLETED&quot;</td><td>&quot;Campbell&#x27;s&quot;</td><td>&quot;campbells.com&quot;</td><td>[&quot;cj_brown@campbells.com&quot;]</td><td>[&quot;VALID&quot;]</td></tr><tr><td>&quot;121581&quot;</td><td>&quot;Christine&quot;</td><td>&quot;Song&quot;</td><td>&quot;csong@estee.com&quot;</td><td>&quot;https://www.linkedin.com/in/ch…</td><td>&quot;Christine&quot;</td><td>&quot;Song&quot;</td><td>&quot;https://linkedin.com/in/christ…</td><td>&quot;VP, Keys Soulcare&quot;</td><td>[{&quot;csong@elfcosmetics.com&quot;,&quot;VALID&quot;}]</td><td>[]</td><td>&quot;COMPLETED&quot;</td><td>&quot;E.L.F. BEAUTY&quot;</td><td>&quot;elfcosmetics.com&quot;</td><td>[&quot;csong@elfcosmetics.com&quot;]</td><td>[&quot;VALID&quot;]</td></tr><tr><td>&quot;4338&quot;</td><td>&quot;Martin&quot;</td><td>&quot;Michaelson&quot;</td><td>&quot;martin.michaelson@wachovia.com&quot;</td><td>&quot;https://www.linkedin.com/in/ma…</td><td>&quot;Martin&quot;</td><td>&quot;Michaelson&quot;</td><td>&quot;https://linkedin.com/in/martin…</td><td>&quot;Executive Director&quot;</td><td>[{&quot;martin.michaelson@wellsfargo.com&quot;,&quot;VALID&quot;}]</td><td>[]</td><td>&quot;COMPLETED&quot;</td><td>&quot;Wells Fargo&quot;</td><td>&quot;wellsfargo.com&quot;</td><td>[&quot;martin.michaelson@wellsfargo.com&quot;]</td><td>[&quot;VALID&quot;]</td></tr></tbody></table></div>"
      ],
      "text/plain": [
       "shape: (100, 16)\n",
       "┌───────────┬───────────┬───────────┬───────────┬───┬───────────┬───────────┬───────────┬──────────┐\n",
       "│ externalI ┆ firstName ┆ lastName  ┆ email     ┆ … ┆ companyNa ┆ companyDo ┆ email_df2 ┆ validati │\n",
       "│ D         ┆ ---       ┆ ---       ┆ ---       ┆   ┆ me        ┆ main      ┆ ---       ┆ onStatus │\n",
       "│ ---       ┆ str       ┆ str       ┆ str       ┆   ┆ ---       ┆ ---       ┆ list[str] ┆ ---      │\n",
       "│ str       ┆           ┆           ┆           ┆   ┆ str       ┆ str       ┆           ┆ list[str │\n",
       "│           ┆           ┆           ┆           ┆   ┆           ┆           ┆           ┆ ]        │\n",
       "╞═══════════╪═══════════╪═══════════╪═══════════╪═══╪═══════════╪═══════════╪═══════════╪══════════╡\n",
       "│ 4868      ┆ Anna      ┆ Eide      ┆ eidea@wor ┆ … ┆ null      ┆ null      ┆ null      ┆ null     │\n",
       "│           ┆           ┆           ┆ ldkitchen ┆   ┆           ┆           ┆           ┆          │\n",
       "│           ┆           ┆           ┆ .com      ┆   ┆           ┆           ┆           ┆          │\n",
       "│ 18675480  ┆ Stephanie ┆ Meals     ┆ stephanie ┆ … ┆ General   ┆ generalmi ┆ [\"stephan ┆ [\"VALID\" │\n",
       "│           ┆           ┆           ┆ .meals@pe ┆   ┆ Mills     ┆ lls.com   ┆ ie.meals@ ┆ ]        │\n",
       "│           ┆           ┆           ┆ psico.com ┆   ┆           ┆           ┆ generalmi ┆          │\n",
       "│           ┆           ┆           ┆           ┆   ┆           ┆           ┆ lls…      ┆          │\n",
       "│ 121604    ┆ Laszlo    ┆ Tikk      ┆ ltikk@mar ┆ … ┆ Blommer   ┆ blommer.c ┆ [\"ltikk@b ┆ [\"VALID\" │\n",
       "│           ┆           ┆           ┆ zetti.com ┆   ┆ Chocolate ┆ om        ┆ lommer.co ┆ ]        │\n",
       "│           ┆           ┆           ┆           ┆   ┆ Company   ┆           ┆ m\"]       ┆          │\n",
       "│ 24058980  ┆ Tammy     ┆ Butterwor ┆ tammy.but ┆ … ┆ Welch's   ┆ welchs.co ┆ [\"tbutter ┆ [\"CATCH_ │\n",
       "│           ┆           ┆ th        ┆ terworth@ ┆   ┆           ┆ m         ┆ worth@wel ┆ ALL\"]    │\n",
       "│           ┆           ┆           ┆ pepsico.c ┆   ┆           ┆           ┆ chs.com\"] ┆          │\n",
       "│           ┆           ┆           ┆ om        ┆   ┆           ┆           ┆           ┆          │\n",
       "│ 515473566 ┆ Joel      ┆ White     ┆ joel.whit ┆ … ┆ The       ┆ thegenuin ┆ [\"jwhite@ ┆ [\"VALID\" │\n",
       "│ 4         ┆           ┆           ┆ e@gmcr.co ┆   ┆ Genuine   ┆ ehospital ┆ thegenuin ┆ ]        │\n",
       "│           ┆           ┆           ┆ m         ┆   ┆ Hospitali ┆ itygroup. ┆ ehospital ┆          │\n",
       "│           ┆           ┆           ┆           ┆   ┆ ty Group  ┆ com       ┆ ity…      ┆          │\n",
       "│ …         ┆ …         ┆ …         ┆ …         ┆ … ┆ …         ┆ …         ┆ …         ┆ …        │\n",
       "│ 11241     ┆ Michelle  ┆ Thevil    ┆ mthevil@k ┆ … ┆ Salesforc ┆ salesforc ┆ [\"michell ┆ [\"VALID\" │\n",
       "│           ┆           ┆           ┆ ashi.com  ┆   ┆ e         ┆ e.com     ┆ e.mcdonal ┆ ]        │\n",
       "│           ┆           ┆           ┆           ┆   ┆           ┆           ┆ d@salesfo ┆          │\n",
       "│           ┆           ┆           ┆           ┆   ┆           ┆           ┆ rce…      ┆          │\n",
       "│ 4075      ┆ Cindy     ┆ Orr       ┆ corr@aved ┆ … ┆ Celeb     ┆ celebluxu ┆ [\"corr@ce ┆ [\"VALID\" │\n",
       "│           ┆           ┆           ┆ a.com     ┆   ┆ Luxury,   ┆ ry.com    ┆ lebluxury ┆ ]        │\n",
       "│           ┆           ┆           ┆           ┆   ┆ LLC       ┆           ┆ .com\"]    ┆          │\n",
       "│ 4076      ┆ C.J.      ┆ Brown     ┆ brown.c@p ┆ … ┆ Campbell' ┆ campbells ┆ [\"cj_brow ┆ [\"VALID\" │\n",
       "│           ┆           ┆           ┆ g.com     ┆   ┆ s         ┆ .com      ┆ n@campbel ┆ ]        │\n",
       "│           ┆           ┆           ┆           ┆   ┆           ┆           ┆ ls.com\"]  ┆          │\n",
       "│ 121581    ┆ Christine ┆ Song      ┆ csong@est ┆ … ┆ E.L.F.    ┆ elfcosmet ┆ [\"csong@e ┆ [\"VALID\" │\n",
       "│           ┆           ┆           ┆ ee.com    ┆   ┆ BEAUTY    ┆ ics.com   ┆ lfcosmeti ┆ ]        │\n",
       "│           ┆           ┆           ┆           ┆   ┆           ┆           ┆ cs.com\"]  ┆          │\n",
       "│ 4338      ┆ Martin    ┆ Michaelso ┆ martin.mi ┆ … ┆ Wells     ┆ wellsfarg ┆ [\"martin. ┆ [\"VALID\" │\n",
       "│           ┆           ┆ n         ┆ chaelson@ ┆   ┆ Fargo     ┆ o.com     ┆ michaelso ┆ ]        │\n",
       "│           ┆           ┆           ┆ wachovia. ┆   ┆           ┆           ┆ n@wellsfa ┆          │\n",
       "│           ┆           ┆           ┆ com       ┆   ┆           ┆           ┆ rgo…      ┆          │\n",
       "└───────────┴───────────┴───────────┴───────────┴───┴───────────┴───────────┴───────────┴──────────┘"
      ]
     },
     "execution_count": 11,
     "metadata": {},
     "output_type": "execute_result"
    }
   ],
   "source": [
    "df4 = df3.join(df_emails, on=\"externalID\", how=\"left\")\n",
    "df4"
   ]
  },
  {
   "cell_type": "code",
   "execution_count": 12,
   "id": "22ec6d4d",
   "metadata": {},
   "outputs": [],
   "source": [
    "df4 = df4.select(pl.all(), pl.col(\"email_df2\").list.contains(pl.col(\"email\")).alias(\"old_email_in_results\"))"
   ]
  },
  {
   "cell_type": "code",
   "execution_count": 13,
   "id": "8c5a231b",
   "metadata": {},
   "outputs": [],
   "source": [
    "df_diff = (\n",
    "    df4\n",
    "    .with_columns(\n",
    "        has_diff = pl.any_horizontal(\n",
    "            pl.col(x).ne_missing(pl.col(f\"{x}_df2\"))\n",
    "            for x in df1.columns if x not in ['externalID', 'email']\n",
    "            )\n",
    "        )\n",
    ")"
   ]
  },
  {
   "cell_type": "code",
   "execution_count": 14,
   "id": "1ba27fbc",
   "metadata": {},
   "outputs": [
    {
     "data": {
      "text/html": [
       "<div><style>\n",
       ".dataframe > thead > tr,\n",
       ".dataframe > tbody > tr {\n",
       "  text-align: right;\n",
       "  white-space: pre-wrap;\n",
       "}\n",
       "</style>\n",
       "<small>shape: (100, 18)</small><table border=\"1\" class=\"dataframe\"><thead><tr><th>externalID</th><th>firstName</th><th>lastName</th><th>email</th><th>linkedInUrl</th><th>firstName_df2</th><th>lastName_df2</th><th>linkedInUrl_df2</th><th>jobTitle</th><th>emails</th><th>mobilePhones</th><th>status</th><th>companyName</th><th>companyDomain</th><th>email_df2</th><th>validationStatus</th><th>old_email_in_results</th><th>has_diff</th></tr><tr><td>str</td><td>str</td><td>str</td><td>str</td><td>str</td><td>str</td><td>str</td><td>str</td><td>str</td><td>list[struct[2]]</td><td>list[null]</td><td>str</td><td>str</td><td>str</td><td>list[str]</td><td>list[str]</td><td>bool</td><td>bool</td></tr></thead><tbody><tr><td>&quot;4868&quot;</td><td>&quot;Anna&quot;</td><td>&quot;Eide&quot;</td><td>&quot;eidea@worldkitchen.com&quot;</td><td>&quot;https://www.linkedin.com/in/an…</td><td>&quot;Anna&quot;</td><td>&quot;Eide&quot;</td><td>&quot;https://linkedin.com/in/aneide&quot;</td><td>&quot;Founder and Principal Design C…</td><td>null</td><td>[]</td><td>&quot;COMPLETED&quot;</td><td>null</td><td>null</td><td>null</td><td>null</td><td>null</td><td>true</td></tr><tr><td>&quot;18675480&quot;</td><td>&quot;Stephanie&quot;</td><td>&quot;Meals&quot;</td><td>&quot;stephanie.meals@pepsico.com&quot;</td><td>&quot;https://www.linkedin.com/in/sm…</td><td>&quot;Stephanie&quot;</td><td>&quot;Meals&quot;</td><td>&quot;https://linkedin.com/in/smeals&quot;</td><td>&quot;Consumer Insights Associate Ma…</td><td>[{&quot;stephanie.meals@generalmills.com&quot;,&quot;VALID&quot;}]</td><td>[]</td><td>&quot;COMPLETED&quot;</td><td>&quot;General Mills&quot;</td><td>&quot;generalmills.com&quot;</td><td>[&quot;stephanie.meals@generalmills.com&quot;]</td><td>[&quot;VALID&quot;]</td><td>false</td><td>true</td></tr><tr><td>&quot;121604&quot;</td><td>&quot;Laszlo&quot;</td><td>&quot;Tikk&quot;</td><td>&quot;ltikk@marzetti.com&quot;</td><td>&quot;https://www.linkedin.com/in/la…</td><td>&quot;Laszlo&quot;</td><td>&quot;Tikk&quot;</td><td>&quot;https://linkedin.com/in/laszlo…</td><td>&quot;General Manager&quot;</td><td>[{&quot;ltikk@blommer.com&quot;,&quot;VALID&quot;}]</td><td>[]</td><td>&quot;COMPLETED&quot;</td><td>&quot;Blommer Chocolate Company&quot;</td><td>&quot;blommer.com&quot;</td><td>[&quot;ltikk@blommer.com&quot;]</td><td>[&quot;VALID&quot;]</td><td>false</td><td>true</td></tr><tr><td>&quot;24058980&quot;</td><td>&quot;Tammy&quot;</td><td>&quot;Butterworth&quot;</td><td>&quot;tammy.butterworth@pepsico.com&quot;</td><td>&quot;https://www.linkedin.com/in/ta…</td><td>&quot;Tammy&quot;</td><td>&quot;Butterworth&quot;</td><td>&quot;https://linkedin.com/in/tammyb…</td><td>&quot;Product Innovation Director&quot;</td><td>[{&quot;tbutterworth@welchs.com&quot;,&quot;CATCH_ALL&quot;}]</td><td>[]</td><td>&quot;COMPLETED&quot;</td><td>&quot;Welch&#x27;s&quot;</td><td>&quot;welchs.com&quot;</td><td>[&quot;tbutterworth@welchs.com&quot;]</td><td>[&quot;CATCH_ALL&quot;]</td><td>false</td><td>true</td></tr><tr><td>&quot;5154735664&quot;</td><td>&quot;Joel&quot;</td><td>&quot;White&quot;</td><td>&quot;joel.white@gmcr.com&quot;</td><td>&quot;https://www.linkedin.com/in/jo…</td><td>&quot;Joel&quot;</td><td>&quot;White&quot;</td><td>&quot;https://linkedin.com/in/joelwh…</td><td>&quot;Vice President Of Marketing&quot;</td><td>[{&quot;jwhite@thegenuinehospitalitygroup.com&quot;,&quot;VALID&quot;}]</td><td>[]</td><td>&quot;COMPLETED&quot;</td><td>&quot;The Genuine Hospitality Group&quot;</td><td>&quot;thegenuinehospitalitygroup.com&quot;</td><td>[&quot;jwhite@thegenuinehospitalitygroup.com&quot;]</td><td>[&quot;VALID&quot;]</td><td>false</td><td>true</td></tr><tr><td>&hellip;</td><td>&hellip;</td><td>&hellip;</td><td>&hellip;</td><td>&hellip;</td><td>&hellip;</td><td>&hellip;</td><td>&hellip;</td><td>&hellip;</td><td>&hellip;</td><td>&hellip;</td><td>&hellip;</td><td>&hellip;</td><td>&hellip;</td><td>&hellip;</td><td>&hellip;</td><td>&hellip;</td><td>&hellip;</td></tr><tr><td>&quot;11241&quot;</td><td>&quot;Michelle&quot;</td><td>&quot;Thevil&quot;</td><td>&quot;mthevil@kashi.com&quot;</td><td>&quot;https://www.linkedin.com/in/mi…</td><td>&quot;Michelle&quot;</td><td>&quot;Thevil&quot;</td><td>&quot;https://linkedin.com/in/michel…</td><td>&quot;Principal UX Researcher&quot;</td><td>[{&quot;michelle.mcdonald@salesforce.com&quot;,&quot;VALID&quot;}]</td><td>[]</td><td>&quot;COMPLETED&quot;</td><td>&quot;Salesforce&quot;</td><td>&quot;salesforce.com&quot;</td><td>[&quot;michelle.mcdonald@salesforce.com&quot;]</td><td>[&quot;VALID&quot;]</td><td>false</td><td>true</td></tr><tr><td>&quot;4075&quot;</td><td>&quot;Cindy&quot;</td><td>&quot;Orr&quot;</td><td>&quot;corr@aveda.com&quot;</td><td>&quot;https://www.linkedin.com/in/ci…</td><td>&quot;Cindy&quot;</td><td>&quot;Orr&quot;</td><td>&quot;https://linkedin.com/in/cindy-…</td><td>&quot;General Manager/VP&quot;</td><td>[{&quot;corr@celebluxury.com&quot;,&quot;VALID&quot;}]</td><td>[]</td><td>&quot;COMPLETED&quot;</td><td>&quot;Celeb Luxury, LLC&quot;</td><td>&quot;celebluxury.com&quot;</td><td>[&quot;corr@celebluxury.com&quot;]</td><td>[&quot;VALID&quot;]</td><td>false</td><td>true</td></tr><tr><td>&quot;4076&quot;</td><td>&quot;C.J.&quot;</td><td>&quot;Brown&quot;</td><td>&quot;brown.c@pg.com&quot;</td><td>&quot;https://www.linkedin.com/in/cj…</td><td>&quot;C.J.&quot;</td><td>&quot;Brown&quot;</td><td>&quot;https://linkedin.com/in/cjbrow…</td><td>&quot;Vice President, Marketing, Ana…</td><td>[{&quot;cj_brown@campbells.com&quot;,&quot;VALID&quot;}]</td><td>[]</td><td>&quot;COMPLETED&quot;</td><td>&quot;Campbell&#x27;s&quot;</td><td>&quot;campbells.com&quot;</td><td>[&quot;cj_brown@campbells.com&quot;]</td><td>[&quot;VALID&quot;]</td><td>false</td><td>true</td></tr><tr><td>&quot;121581&quot;</td><td>&quot;Christine&quot;</td><td>&quot;Song&quot;</td><td>&quot;csong@estee.com&quot;</td><td>&quot;https://www.linkedin.com/in/ch…</td><td>&quot;Christine&quot;</td><td>&quot;Song&quot;</td><td>&quot;https://linkedin.com/in/christ…</td><td>&quot;VP, Keys Soulcare&quot;</td><td>[{&quot;csong@elfcosmetics.com&quot;,&quot;VALID&quot;}]</td><td>[]</td><td>&quot;COMPLETED&quot;</td><td>&quot;E.L.F. BEAUTY&quot;</td><td>&quot;elfcosmetics.com&quot;</td><td>[&quot;csong@elfcosmetics.com&quot;]</td><td>[&quot;VALID&quot;]</td><td>false</td><td>true</td></tr><tr><td>&quot;4338&quot;</td><td>&quot;Martin&quot;</td><td>&quot;Michaelson&quot;</td><td>&quot;martin.michaelson@wachovia.com&quot;</td><td>&quot;https://www.linkedin.com/in/ma…</td><td>&quot;Martin&quot;</td><td>&quot;Michaelson&quot;</td><td>&quot;https://linkedin.com/in/martin…</td><td>&quot;Executive Director&quot;</td><td>[{&quot;martin.michaelson@wellsfargo.com&quot;,&quot;VALID&quot;}]</td><td>[]</td><td>&quot;COMPLETED&quot;</td><td>&quot;Wells Fargo&quot;</td><td>&quot;wellsfargo.com&quot;</td><td>[&quot;martin.michaelson@wellsfargo.com&quot;]</td><td>[&quot;VALID&quot;]</td><td>false</td><td>true</td></tr></tbody></table></div>"
      ],
      "text/plain": [
       "shape: (100, 18)\n",
       "┌───────────┬───────────┬───────────┬───────────┬───┬───────────┬───────────┬───────────┬──────────┐\n",
       "│ externalI ┆ firstName ┆ lastName  ┆ email     ┆ … ┆ email_df2 ┆ validatio ┆ old_email ┆ has_diff │\n",
       "│ D         ┆ ---       ┆ ---       ┆ ---       ┆   ┆ ---       ┆ nStatus   ┆ _in_resul ┆ ---      │\n",
       "│ ---       ┆ str       ┆ str       ┆ str       ┆   ┆ list[str] ┆ ---       ┆ ts        ┆ bool     │\n",
       "│ str       ┆           ┆           ┆           ┆   ┆           ┆ list[str] ┆ ---       ┆          │\n",
       "│           ┆           ┆           ┆           ┆   ┆           ┆           ┆ bool      ┆          │\n",
       "╞═══════════╪═══════════╪═══════════╪═══════════╪═══╪═══════════╪═══════════╪═══════════╪══════════╡\n",
       "│ 4868      ┆ Anna      ┆ Eide      ┆ eidea@wor ┆ … ┆ null      ┆ null      ┆ null      ┆ true     │\n",
       "│           ┆           ┆           ┆ ldkitchen ┆   ┆           ┆           ┆           ┆          │\n",
       "│           ┆           ┆           ┆ .com      ┆   ┆           ┆           ┆           ┆          │\n",
       "│ 18675480  ┆ Stephanie ┆ Meals     ┆ stephanie ┆ … ┆ [\"stephan ┆ [\"VALID\"] ┆ false     ┆ true     │\n",
       "│           ┆           ┆           ┆ .meals@pe ┆   ┆ ie.meals@ ┆           ┆           ┆          │\n",
       "│           ┆           ┆           ┆ psico.com ┆   ┆ generalmi ┆           ┆           ┆          │\n",
       "│           ┆           ┆           ┆           ┆   ┆ lls…      ┆           ┆           ┆          │\n",
       "│ 121604    ┆ Laszlo    ┆ Tikk      ┆ ltikk@mar ┆ … ┆ [\"ltikk@b ┆ [\"VALID\"] ┆ false     ┆ true     │\n",
       "│           ┆           ┆           ┆ zetti.com ┆   ┆ lommer.co ┆           ┆           ┆          │\n",
       "│           ┆           ┆           ┆           ┆   ┆ m\"]       ┆           ┆           ┆          │\n",
       "│ 24058980  ┆ Tammy     ┆ Butterwor ┆ tammy.but ┆ … ┆ [\"tbutter ┆ [\"CATCH_A ┆ false     ┆ true     │\n",
       "│           ┆           ┆ th        ┆ terworth@ ┆   ┆ worth@wel ┆ LL\"]      ┆           ┆          │\n",
       "│           ┆           ┆           ┆ pepsico.c ┆   ┆ chs.com\"] ┆           ┆           ┆          │\n",
       "│           ┆           ┆           ┆ om        ┆   ┆           ┆           ┆           ┆          │\n",
       "│ 515473566 ┆ Joel      ┆ White     ┆ joel.whit ┆ … ┆ [\"jwhite@ ┆ [\"VALID\"] ┆ false     ┆ true     │\n",
       "│ 4         ┆           ┆           ┆ e@gmcr.co ┆   ┆ thegenuin ┆           ┆           ┆          │\n",
       "│           ┆           ┆           ┆ m         ┆   ┆ ehospital ┆           ┆           ┆          │\n",
       "│           ┆           ┆           ┆           ┆   ┆ ity…      ┆           ┆           ┆          │\n",
       "│ …         ┆ …         ┆ …         ┆ …         ┆ … ┆ …         ┆ …         ┆ …         ┆ …        │\n",
       "│ 11241     ┆ Michelle  ┆ Thevil    ┆ mthevil@k ┆ … ┆ [\"michell ┆ [\"VALID\"] ┆ false     ┆ true     │\n",
       "│           ┆           ┆           ┆ ashi.com  ┆   ┆ e.mcdonal ┆           ┆           ┆          │\n",
       "│           ┆           ┆           ┆           ┆   ┆ d@salesfo ┆           ┆           ┆          │\n",
       "│           ┆           ┆           ┆           ┆   ┆ rce…      ┆           ┆           ┆          │\n",
       "│ 4075      ┆ Cindy     ┆ Orr       ┆ corr@aved ┆ … ┆ [\"corr@ce ┆ [\"VALID\"] ┆ false     ┆ true     │\n",
       "│           ┆           ┆           ┆ a.com     ┆   ┆ lebluxury ┆           ┆           ┆          │\n",
       "│           ┆           ┆           ┆           ┆   ┆ .com\"]    ┆           ┆           ┆          │\n",
       "│ 4076      ┆ C.J.      ┆ Brown     ┆ brown.c@p ┆ … ┆ [\"cj_brow ┆ [\"VALID\"] ┆ false     ┆ true     │\n",
       "│           ┆           ┆           ┆ g.com     ┆   ┆ n@campbel ┆           ┆           ┆          │\n",
       "│           ┆           ┆           ┆           ┆   ┆ ls.com\"]  ┆           ┆           ┆          │\n",
       "│ 121581    ┆ Christine ┆ Song      ┆ csong@est ┆ … ┆ [\"csong@e ┆ [\"VALID\"] ┆ false     ┆ true     │\n",
       "│           ┆           ┆           ┆ ee.com    ┆   ┆ lfcosmeti ┆           ┆           ┆          │\n",
       "│           ┆           ┆           ┆           ┆   ┆ cs.com\"]  ┆           ┆           ┆          │\n",
       "│ 4338      ┆ Martin    ┆ Michaelso ┆ martin.mi ┆ … ┆ [\"martin. ┆ [\"VALID\"] ┆ false     ┆ true     │\n",
       "│           ┆           ┆ n         ┆ chaelson@ ┆   ┆ michaelso ┆           ┆           ┆          │\n",
       "│           ┆           ┆           ┆ wachovia. ┆   ┆ n@wellsfa ┆           ┆           ┆          │\n",
       "│           ┆           ┆           ┆ com       ┆   ┆ rgo…      ┆           ┆           ┆          │\n",
       "└───────────┴───────────┴───────────┴───────────┴───┴───────────┴───────────┴───────────┴──────────┘"
      ]
     },
     "execution_count": 14,
     "metadata": {},
     "output_type": "execute_result"
    }
   ],
   "source": [
    "df_diff"
   ]
  },
  {
   "cell_type": "code",
   "execution_count": 15,
   "id": "012174ac",
   "metadata": {},
   "outputs": [],
   "source": [
    "df_out = df_diff.select(pl.exclude(\"email_df2\", \"validationStatus\", \"emails\", \"mobilePhones\"), pl.col(\"email_df2\").list.join(\";\").alias(\"emails2\"), pl.col(\"validationStatus\").list.join(\";\").alias(\"emails2ValidationStatus\"))"
   ]
  },
  {
   "cell_type": "code",
   "execution_count": 16,
   "id": "d3a59baf",
   "metadata": {},
   "outputs": [],
   "source": [
    "df_out.write_csv(\"out.csv\")"
   ]
  },
  {
   "cell_type": "code",
   "execution_count": 39,
   "id": "7ff2b6d8",
   "metadata": {},
   "outputs": [
    {
     "data": {
      "text/html": [
       "<div><style>\n",
       ".dataframe > thead > tr,\n",
       ".dataframe > tbody > tr {\n",
       "  text-align: right;\n",
       "  white-space: pre-wrap;\n",
       "}\n",
       "</style>\n",
       "<small>shape: (100, 16)</small><table border=\"1\" class=\"dataframe\"><thead><tr><th>externalID</th><th>firstName</th><th>lastName</th><th>email</th><th>linkedInUrl</th><th>firstName_df2</th><th>lastName_df2</th><th>linkedInUrl_df2</th><th>jobTitle</th><th>status</th><th>companyName</th><th>companyDomain</th><th>old_email_in_results</th><th>has_diff</th><th>emails2</th><th>emails2ValidationStatus</th></tr><tr><td>str</td><td>str</td><td>str</td><td>str</td><td>str</td><td>str</td><td>str</td><td>str</td><td>str</td><td>str</td><td>str</td><td>str</td><td>bool</td><td>bool</td><td>str</td><td>str</td></tr></thead><tbody><tr><td>&quot;4868&quot;</td><td>&quot;Anna&quot;</td><td>&quot;Eide&quot;</td><td>&quot;eidea@worldkitchen.com&quot;</td><td>&quot;https://www.linkedin.com/in/an…</td><td>&quot;Anna&quot;</td><td>&quot;Eide&quot;</td><td>&quot;https://linkedin.com/in/aneide&quot;</td><td>&quot;Founder and Principal Design C…</td><td>&quot;COMPLETED&quot;</td><td>null</td><td>null</td><td>null</td><td>false</td><td>null</td><td>null</td></tr><tr><td>&quot;18675480&quot;</td><td>&quot;Stephanie&quot;</td><td>&quot;Meals&quot;</td><td>&quot;stephanie.meals@pepsico.com&quot;</td><td>&quot;https://www.linkedin.com/in/sm…</td><td>&quot;Stephanie&quot;</td><td>&quot;Meals&quot;</td><td>&quot;https://linkedin.com/in/smeals&quot;</td><td>&quot;Consumer Insights Associate Ma…</td><td>&quot;COMPLETED&quot;</td><td>&quot;General Mills&quot;</td><td>&quot;generalmills.com&quot;</td><td>false</td><td>false</td><td>&quot;stephanie.meals@generalmills.c…</td><td>&quot;VALID&quot;</td></tr><tr><td>&quot;121604&quot;</td><td>&quot;Laszlo&quot;</td><td>&quot;Tikk&quot;</td><td>&quot;ltikk@marzetti.com&quot;</td><td>&quot;https://www.linkedin.com/in/la…</td><td>&quot;Laszlo&quot;</td><td>&quot;Tikk&quot;</td><td>&quot;https://linkedin.com/in/laszlo…</td><td>&quot;General Manager&quot;</td><td>&quot;COMPLETED&quot;</td><td>&quot;Blommer Chocolate Company&quot;</td><td>&quot;blommer.com&quot;</td><td>false</td><td>false</td><td>&quot;ltikk@blommer.com&quot;</td><td>&quot;VALID&quot;</td></tr><tr><td>&quot;24058980&quot;</td><td>&quot;Tammy&quot;</td><td>&quot;Butterworth&quot;</td><td>&quot;tammy.butterworth@pepsico.com&quot;</td><td>&quot;https://www.linkedin.com/in/ta…</td><td>&quot;Tammy&quot;</td><td>&quot;Butterworth&quot;</td><td>&quot;https://linkedin.com/in/tammyb…</td><td>&quot;Product Innovation Director&quot;</td><td>&quot;COMPLETED&quot;</td><td>&quot;Welch&#x27;s&quot;</td><td>&quot;welchs.com&quot;</td><td>false</td><td>false</td><td>&quot;tbutterworth@welchs.com&quot;</td><td>&quot;CATCH_ALL&quot;</td></tr><tr><td>&quot;5154735664&quot;</td><td>&quot;Joel&quot;</td><td>&quot;White&quot;</td><td>&quot;joel.white@gmcr.com&quot;</td><td>&quot;https://www.linkedin.com/in/jo…</td><td>&quot;Joel&quot;</td><td>&quot;White&quot;</td><td>&quot;https://linkedin.com/in/joelwh…</td><td>&quot;Vice President Of Marketing&quot;</td><td>&quot;COMPLETED&quot;</td><td>&quot;The Genuine Hospitality Group&quot;</td><td>&quot;thegenuinehospitalitygroup.com&quot;</td><td>false</td><td>false</td><td>&quot;jwhite@thegenuinehospitalitygr…</td><td>&quot;VALID&quot;</td></tr><tr><td>&hellip;</td><td>&hellip;</td><td>&hellip;</td><td>&hellip;</td><td>&hellip;</td><td>&hellip;</td><td>&hellip;</td><td>&hellip;</td><td>&hellip;</td><td>&hellip;</td><td>&hellip;</td><td>&hellip;</td><td>&hellip;</td><td>&hellip;</td><td>&hellip;</td><td>&hellip;</td></tr><tr><td>&quot;11241&quot;</td><td>&quot;Michelle&quot;</td><td>&quot;Thevil&quot;</td><td>&quot;mthevil@kashi.com&quot;</td><td>&quot;https://www.linkedin.com/in/mi…</td><td>&quot;Michelle&quot;</td><td>&quot;Thevil&quot;</td><td>&quot;https://linkedin.com/in/michel…</td><td>&quot;Principal UX Researcher&quot;</td><td>&quot;COMPLETED&quot;</td><td>&quot;Salesforce&quot;</td><td>&quot;salesforce.com&quot;</td><td>false</td><td>false</td><td>&quot;michelle.mcdonald@salesforce.c…</td><td>&quot;VALID&quot;</td></tr><tr><td>&quot;4075&quot;</td><td>&quot;Cindy&quot;</td><td>&quot;Orr&quot;</td><td>&quot;corr@aveda.com&quot;</td><td>&quot;https://www.linkedin.com/in/ci…</td><td>&quot;Cindy&quot;</td><td>&quot;Orr&quot;</td><td>&quot;https://linkedin.com/in/cindy-…</td><td>&quot;General Manager/VP&quot;</td><td>&quot;COMPLETED&quot;</td><td>&quot;Celeb Luxury, LLC&quot;</td><td>&quot;celebluxury.com&quot;</td><td>false</td><td>false</td><td>&quot;corr@celebluxury.com&quot;</td><td>&quot;VALID&quot;</td></tr><tr><td>&quot;4076&quot;</td><td>&quot;C.J.&quot;</td><td>&quot;Brown&quot;</td><td>&quot;brown.c@pg.com&quot;</td><td>&quot;https://www.linkedin.com/in/cj…</td><td>&quot;C.J.&quot;</td><td>&quot;Brown&quot;</td><td>&quot;https://linkedin.com/in/cjbrow…</td><td>&quot;Vice President, Marketing, Ana…</td><td>&quot;COMPLETED&quot;</td><td>&quot;Campbell&#x27;s&quot;</td><td>&quot;campbells.com&quot;</td><td>false</td><td>false</td><td>&quot;cj_brown@campbells.com&quot;</td><td>&quot;VALID&quot;</td></tr><tr><td>&quot;121581&quot;</td><td>&quot;Christine&quot;</td><td>&quot;Song&quot;</td><td>&quot;csong@estee.com&quot;</td><td>&quot;https://www.linkedin.com/in/ch…</td><td>&quot;Christine&quot;</td><td>&quot;Song&quot;</td><td>&quot;https://linkedin.com/in/christ…</td><td>&quot;VP, Keys Soulcare&quot;</td><td>&quot;COMPLETED&quot;</td><td>&quot;E.L.F. BEAUTY&quot;</td><td>&quot;elfcosmetics.com&quot;</td><td>false</td><td>false</td><td>&quot;csong@elfcosmetics.com&quot;</td><td>&quot;VALID&quot;</td></tr><tr><td>&quot;4338&quot;</td><td>&quot;Martin&quot;</td><td>&quot;Michaelson&quot;</td><td>&quot;martin.michaelson@wachovia.com&quot;</td><td>&quot;https://www.linkedin.com/in/ma…</td><td>&quot;Martin&quot;</td><td>&quot;Michaelson&quot;</td><td>&quot;https://linkedin.com/in/martin…</td><td>&quot;Executive Director&quot;</td><td>&quot;COMPLETED&quot;</td><td>&quot;Wells Fargo&quot;</td><td>&quot;wellsfargo.com&quot;</td><td>false</td><td>false</td><td>&quot;martin.michaelson@wellsfargo.c…</td><td>&quot;VALID&quot;</td></tr></tbody></table></div>"
      ],
      "text/plain": [
       "shape: (100, 16)\n",
       "┌───────────┬───────────┬───────────┬───────────┬───┬───────────┬──────────┬───────────┬───────────┐\n",
       "│ externalI ┆ firstName ┆ lastName  ┆ email     ┆ … ┆ old_email ┆ has_diff ┆ emails2   ┆ emails2Va │\n",
       "│ D         ┆ ---       ┆ ---       ┆ ---       ┆   ┆ _in_resul ┆ ---      ┆ ---       ┆ lidationS │\n",
       "│ ---       ┆ str       ┆ str       ┆ str       ┆   ┆ ts        ┆ bool     ┆ str       ┆ tatus     │\n",
       "│ str       ┆           ┆           ┆           ┆   ┆ ---       ┆          ┆           ┆ ---       │\n",
       "│           ┆           ┆           ┆           ┆   ┆ bool      ┆          ┆           ┆ str       │\n",
       "╞═══════════╪═══════════╪═══════════╪═══════════╪═══╪═══════════╪══════════╪═══════════╪═══════════╡\n",
       "│ 4868      ┆ Anna      ┆ Eide      ┆ eidea@wor ┆ … ┆ null      ┆ false    ┆ null      ┆ null      │\n",
       "│           ┆           ┆           ┆ ldkitchen ┆   ┆           ┆          ┆           ┆           │\n",
       "│           ┆           ┆           ┆ .com      ┆   ┆           ┆          ┆           ┆           │\n",
       "│ 18675480  ┆ Stephanie ┆ Meals     ┆ stephanie ┆ … ┆ false     ┆ false    ┆ stephanie ┆ VALID     │\n",
       "│           ┆           ┆           ┆ .meals@pe ┆   ┆           ┆          ┆ .meals@ge ┆           │\n",
       "│           ┆           ┆           ┆ psico.com ┆   ┆           ┆          ┆ neralmill ┆           │\n",
       "│           ┆           ┆           ┆           ┆   ┆           ┆          ┆ s.c…      ┆           │\n",
       "│ 121604    ┆ Laszlo    ┆ Tikk      ┆ ltikk@mar ┆ … ┆ false     ┆ false    ┆ ltikk@blo ┆ VALID     │\n",
       "│           ┆           ┆           ┆ zetti.com ┆   ┆           ┆          ┆ mmer.com  ┆           │\n",
       "│ 24058980  ┆ Tammy     ┆ Butterwor ┆ tammy.but ┆ … ┆ false     ┆ false    ┆ tbutterwo ┆ CATCH_ALL │\n",
       "│           ┆           ┆ th        ┆ terworth@ ┆   ┆           ┆          ┆ rth@welch ┆           │\n",
       "│           ┆           ┆           ┆ pepsico.c ┆   ┆           ┆          ┆ s.com     ┆           │\n",
       "│           ┆           ┆           ┆ om        ┆   ┆           ┆          ┆           ┆           │\n",
       "│ 515473566 ┆ Joel      ┆ White     ┆ joel.whit ┆ … ┆ false     ┆ false    ┆ jwhite@th ┆ VALID     │\n",
       "│ 4         ┆           ┆           ┆ e@gmcr.co ┆   ┆           ┆          ┆ egenuineh ┆           │\n",
       "│           ┆           ┆           ┆ m         ┆   ┆           ┆          ┆ ospitalit ┆           │\n",
       "│           ┆           ┆           ┆           ┆   ┆           ┆          ┆ ygr…      ┆           │\n",
       "│ …         ┆ …         ┆ …         ┆ …         ┆ … ┆ …         ┆ …        ┆ …         ┆ …         │\n",
       "│ 11241     ┆ Michelle  ┆ Thevil    ┆ mthevil@k ┆ … ┆ false     ┆ false    ┆ michelle. ┆ VALID     │\n",
       "│           ┆           ┆           ┆ ashi.com  ┆   ┆           ┆          ┆ mcdonald@ ┆           │\n",
       "│           ┆           ┆           ┆           ┆   ┆           ┆          ┆ salesforc ┆           │\n",
       "│           ┆           ┆           ┆           ┆   ┆           ┆          ┆ e.c…      ┆           │\n",
       "│ 4075      ┆ Cindy     ┆ Orr       ┆ corr@aved ┆ … ┆ false     ┆ false    ┆ corr@cele ┆ VALID     │\n",
       "│           ┆           ┆           ┆ a.com     ┆   ┆           ┆          ┆ bluxury.c ┆           │\n",
       "│           ┆           ┆           ┆           ┆   ┆           ┆          ┆ om        ┆           │\n",
       "│ 4076      ┆ C.J.      ┆ Brown     ┆ brown.c@p ┆ … ┆ false     ┆ false    ┆ cj_brown@ ┆ VALID     │\n",
       "│           ┆           ┆           ┆ g.com     ┆   ┆           ┆          ┆ campbells ┆           │\n",
       "│           ┆           ┆           ┆           ┆   ┆           ┆          ┆ .com      ┆           │\n",
       "│ 121581    ┆ Christine ┆ Song      ┆ csong@est ┆ … ┆ false     ┆ false    ┆ csong@elf ┆ VALID     │\n",
       "│           ┆           ┆           ┆ ee.com    ┆   ┆           ┆          ┆ cosmetics ┆           │\n",
       "│           ┆           ┆           ┆           ┆   ┆           ┆          ┆ .com      ┆           │\n",
       "│ 4338      ┆ Martin    ┆ Michaelso ┆ martin.mi ┆ … ┆ false     ┆ false    ┆ martin.mi ┆ VALID     │\n",
       "│           ┆           ┆ n         ┆ chaelson@ ┆   ┆           ┆          ┆ chaelson@ ┆           │\n",
       "│           ┆           ┆           ┆ wachovia. ┆   ┆           ┆          ┆ wellsfarg ┆           │\n",
       "│           ┆           ┆           ┆ com       ┆   ┆           ┆          ┆ o.c…      ┆           │\n",
       "└───────────┴───────────┴───────────┴───────────┴───┴───────────┴──────────┴───────────┴───────────┘"
      ]
     },
     "execution_count": 39,
     "metadata": {},
     "output_type": "execute_result"
    }
   ],
   "source": [
    "def diff(df1: pl.DataFrame, df2: pl.DataFrame) -> pl.DataFrame:\n",
    "    df3 = df1.join(df2, on=\"externalID\", suffix=\"_df2\")\n",
    "\n",
    "    df3x = (\n",
    "        df3.select(\n",
    "            pl.exclude(\"emails\", \"email\"),\n",
    "            pl.col(\"email\").alias(\"email_df1\"),\n",
    "            pl.col(\"emails\").explode().struct.unnest(),\n",
    "        )\n",
    "        .select(pl.exclude(\"email\"), pl.col(\"email\").alias(\"email_df2\"))\n",
    "        .filter(pl.col(\"validationStatus\").is_in([\"VALID\", \"CATCH_ALL\"]))\n",
    "    )\n",
    "\n",
    "    df_emails = df3x.group_by(\"externalID\").agg(\n",
    "        pl.col(\"email_df2\"), pl.col(\"validationStatus\")\n",
    "    )\n",
    "\n",
    "    df4 = df3.join(df_emails, on=\"externalID\", how=\"left\")\n",
    "\n",
    "    df4 = df4.select(\n",
    "        pl.all(),\n",
    "        pl.col(\"email_df2\")\n",
    "        .list.contains(pl.col(\"email\"))\n",
    "        .alias(\"old_email_in_results\"),\n",
    "    )\n",
    "\n",
    "    df_diff = df4.with_columns(\n",
    "        has_diff=pl.any_horizontal(\n",
    "            *list(pl.col(x).ne_missing(pl.col(f\"{x}_df2\"))\n",
    "            for x in df1.columns\n",
    "            if x not in [\"externalID\", \"email\", \"linkedInUrl\"]),\n",
    "            pl.col(\"linkedInUrl\").str.extract(\"/in/(\\w+)/{0,1}\") != pl.col(\"linkedInUrl_df2\").str.extract(\"/in/(\\w+)/{0,1}\")\n",
    "        )\n",
    "    )\n",
    "\n",
    "    df_out = df_diff.select(\n",
    "        pl.exclude(\"email_df2\", \"validationStatus\", \"emails\", \"mobilePhones\"),\n",
    "        pl.col(\"email_df2\").list.join(\";\").alias(\"emails2\"),\n",
    "        pl.col(\"validationStatus\").list.join(\";\").alias(\"emails2ValidationStatus\"),\n",
    "    )\n",
    "\n",
    "    return df_out\n",
    "\n",
    "df_diff2 = diff(df1,df2)\n",
    "df_diff2"
   ]
  },
  {
   "cell_type": "code",
   "execution_count": 19,
   "id": "c2305f85",
   "metadata": {},
   "outputs": [
    {
     "data": {
      "text/html": [
       "<div><style>\n",
       ".dataframe > thead > tr,\n",
       ".dataframe > tbody > tr {\n",
       "  text-align: right;\n",
       "  white-space: pre-wrap;\n",
       "}\n",
       "</style>\n",
       "<small>shape: (100, 18)</small><table border=\"1\" class=\"dataframe\"><thead><tr><th>externalID</th><th>firstName</th><th>lastName</th><th>email</th><th>linkedInUrl</th><th>firstName_df2</th><th>lastName_df2</th><th>linkedInUrl_df2</th><th>jobTitle</th><th>emails</th><th>mobilePhones</th><th>status</th><th>companyName</th><th>companyDomain</th><th>email_df2</th><th>validationStatus</th><th>old_email_in_results</th><th>has_diff</th></tr><tr><td>str</td><td>str</td><td>str</td><td>str</td><td>str</td><td>str</td><td>str</td><td>str</td><td>str</td><td>list[struct[2]]</td><td>list[null]</td><td>str</td><td>str</td><td>str</td><td>list[str]</td><td>list[str]</td><td>bool</td><td>bool</td></tr></thead><tbody><tr><td>&quot;4868&quot;</td><td>&quot;Anna&quot;</td><td>&quot;Eide&quot;</td><td>&quot;eidea@worldkitchen.com&quot;</td><td>&quot;https://www.linkedin.com/in/an…</td><td>&quot;Anna&quot;</td><td>&quot;Eide&quot;</td><td>&quot;https://linkedin.com/in/aneide&quot;</td><td>&quot;Founder and Principal Design C…</td><td>null</td><td>[]</td><td>&quot;COMPLETED&quot;</td><td>null</td><td>null</td><td>null</td><td>null</td><td>null</td><td>true</td></tr><tr><td>&quot;18675480&quot;</td><td>&quot;Stephanie&quot;</td><td>&quot;Meals&quot;</td><td>&quot;stephanie.meals@pepsico.com&quot;</td><td>&quot;https://www.linkedin.com/in/sm…</td><td>&quot;Stephanie&quot;</td><td>&quot;Meals&quot;</td><td>&quot;https://linkedin.com/in/smeals&quot;</td><td>&quot;Consumer Insights Associate Ma…</td><td>[{&quot;stephanie.meals@generalmills.com&quot;,&quot;VALID&quot;}]</td><td>[]</td><td>&quot;COMPLETED&quot;</td><td>&quot;General Mills&quot;</td><td>&quot;generalmills.com&quot;</td><td>[&quot;stephanie.meals@generalmills.com&quot;]</td><td>[&quot;VALID&quot;]</td><td>false</td><td>true</td></tr><tr><td>&quot;121604&quot;</td><td>&quot;Laszlo&quot;</td><td>&quot;Tikk&quot;</td><td>&quot;ltikk@marzetti.com&quot;</td><td>&quot;https://www.linkedin.com/in/la…</td><td>&quot;Laszlo&quot;</td><td>&quot;Tikk&quot;</td><td>&quot;https://linkedin.com/in/laszlo…</td><td>&quot;General Manager&quot;</td><td>[{&quot;ltikk@blommer.com&quot;,&quot;VALID&quot;}]</td><td>[]</td><td>&quot;COMPLETED&quot;</td><td>&quot;Blommer Chocolate Company&quot;</td><td>&quot;blommer.com&quot;</td><td>[&quot;ltikk@blommer.com&quot;]</td><td>[&quot;VALID&quot;]</td><td>false</td><td>true</td></tr><tr><td>&quot;24058980&quot;</td><td>&quot;Tammy&quot;</td><td>&quot;Butterworth&quot;</td><td>&quot;tammy.butterworth@pepsico.com&quot;</td><td>&quot;https://www.linkedin.com/in/ta…</td><td>&quot;Tammy&quot;</td><td>&quot;Butterworth&quot;</td><td>&quot;https://linkedin.com/in/tammyb…</td><td>&quot;Product Innovation Director&quot;</td><td>[{&quot;tbutterworth@welchs.com&quot;,&quot;CATCH_ALL&quot;}]</td><td>[]</td><td>&quot;COMPLETED&quot;</td><td>&quot;Welch&#x27;s&quot;</td><td>&quot;welchs.com&quot;</td><td>[&quot;tbutterworth@welchs.com&quot;]</td><td>[&quot;CATCH_ALL&quot;]</td><td>false</td><td>true</td></tr><tr><td>&quot;5154735664&quot;</td><td>&quot;Joel&quot;</td><td>&quot;White&quot;</td><td>&quot;joel.white@gmcr.com&quot;</td><td>&quot;https://www.linkedin.com/in/jo…</td><td>&quot;Joel&quot;</td><td>&quot;White&quot;</td><td>&quot;https://linkedin.com/in/joelwh…</td><td>&quot;Vice President Of Marketing&quot;</td><td>[{&quot;jwhite@thegenuinehospitalitygroup.com&quot;,&quot;VALID&quot;}]</td><td>[]</td><td>&quot;COMPLETED&quot;</td><td>&quot;The Genuine Hospitality Group&quot;</td><td>&quot;thegenuinehospitalitygroup.com&quot;</td><td>[&quot;jwhite@thegenuinehospitalitygroup.com&quot;]</td><td>[&quot;VALID&quot;]</td><td>false</td><td>true</td></tr><tr><td>&hellip;</td><td>&hellip;</td><td>&hellip;</td><td>&hellip;</td><td>&hellip;</td><td>&hellip;</td><td>&hellip;</td><td>&hellip;</td><td>&hellip;</td><td>&hellip;</td><td>&hellip;</td><td>&hellip;</td><td>&hellip;</td><td>&hellip;</td><td>&hellip;</td><td>&hellip;</td><td>&hellip;</td><td>&hellip;</td></tr><tr><td>&quot;11241&quot;</td><td>&quot;Michelle&quot;</td><td>&quot;Thevil&quot;</td><td>&quot;mthevil@kashi.com&quot;</td><td>&quot;https://www.linkedin.com/in/mi…</td><td>&quot;Michelle&quot;</td><td>&quot;Thevil&quot;</td><td>&quot;https://linkedin.com/in/michel…</td><td>&quot;Principal UX Researcher&quot;</td><td>[{&quot;michelle.mcdonald@salesforce.com&quot;,&quot;VALID&quot;}]</td><td>[]</td><td>&quot;COMPLETED&quot;</td><td>&quot;Salesforce&quot;</td><td>&quot;salesforce.com&quot;</td><td>[&quot;michelle.mcdonald@salesforce.com&quot;]</td><td>[&quot;VALID&quot;]</td><td>false</td><td>true</td></tr><tr><td>&quot;4075&quot;</td><td>&quot;Cindy&quot;</td><td>&quot;Orr&quot;</td><td>&quot;corr@aveda.com&quot;</td><td>&quot;https://www.linkedin.com/in/ci…</td><td>&quot;Cindy&quot;</td><td>&quot;Orr&quot;</td><td>&quot;https://linkedin.com/in/cindy-…</td><td>&quot;General Manager/VP&quot;</td><td>[{&quot;corr@celebluxury.com&quot;,&quot;VALID&quot;}]</td><td>[]</td><td>&quot;COMPLETED&quot;</td><td>&quot;Celeb Luxury, LLC&quot;</td><td>&quot;celebluxury.com&quot;</td><td>[&quot;corr@celebluxury.com&quot;]</td><td>[&quot;VALID&quot;]</td><td>false</td><td>true</td></tr><tr><td>&quot;4076&quot;</td><td>&quot;C.J.&quot;</td><td>&quot;Brown&quot;</td><td>&quot;brown.c@pg.com&quot;</td><td>&quot;https://www.linkedin.com/in/cj…</td><td>&quot;C.J.&quot;</td><td>&quot;Brown&quot;</td><td>&quot;https://linkedin.com/in/cjbrow…</td><td>&quot;Vice President, Marketing, Ana…</td><td>[{&quot;cj_brown@campbells.com&quot;,&quot;VALID&quot;}]</td><td>[]</td><td>&quot;COMPLETED&quot;</td><td>&quot;Campbell&#x27;s&quot;</td><td>&quot;campbells.com&quot;</td><td>[&quot;cj_brown@campbells.com&quot;]</td><td>[&quot;VALID&quot;]</td><td>false</td><td>true</td></tr><tr><td>&quot;121581&quot;</td><td>&quot;Christine&quot;</td><td>&quot;Song&quot;</td><td>&quot;csong@estee.com&quot;</td><td>&quot;https://www.linkedin.com/in/ch…</td><td>&quot;Christine&quot;</td><td>&quot;Song&quot;</td><td>&quot;https://linkedin.com/in/christ…</td><td>&quot;VP, Keys Soulcare&quot;</td><td>[{&quot;csong@elfcosmetics.com&quot;,&quot;VALID&quot;}]</td><td>[]</td><td>&quot;COMPLETED&quot;</td><td>&quot;E.L.F. BEAUTY&quot;</td><td>&quot;elfcosmetics.com&quot;</td><td>[&quot;csong@elfcosmetics.com&quot;]</td><td>[&quot;VALID&quot;]</td><td>false</td><td>true</td></tr><tr><td>&quot;4338&quot;</td><td>&quot;Martin&quot;</td><td>&quot;Michaelson&quot;</td><td>&quot;martin.michaelson@wachovia.com&quot;</td><td>&quot;https://www.linkedin.com/in/ma…</td><td>&quot;Martin&quot;</td><td>&quot;Michaelson&quot;</td><td>&quot;https://linkedin.com/in/martin…</td><td>&quot;Executive Director&quot;</td><td>[{&quot;martin.michaelson@wellsfargo.com&quot;,&quot;VALID&quot;}]</td><td>[]</td><td>&quot;COMPLETED&quot;</td><td>&quot;Wells Fargo&quot;</td><td>&quot;wellsfargo.com&quot;</td><td>[&quot;martin.michaelson@wellsfargo.com&quot;]</td><td>[&quot;VALID&quot;]</td><td>false</td><td>true</td></tr></tbody></table></div>"
      ],
      "text/plain": [
       "shape: (100, 18)\n",
       "┌───────────┬───────────┬───────────┬───────────┬───┬───────────┬───────────┬───────────┬──────────┐\n",
       "│ externalI ┆ firstName ┆ lastName  ┆ email     ┆ … ┆ email_df2 ┆ validatio ┆ old_email ┆ has_diff │\n",
       "│ D         ┆ ---       ┆ ---       ┆ ---       ┆   ┆ ---       ┆ nStatus   ┆ _in_resul ┆ ---      │\n",
       "│ ---       ┆ str       ┆ str       ┆ str       ┆   ┆ list[str] ┆ ---       ┆ ts        ┆ bool     │\n",
       "│ str       ┆           ┆           ┆           ┆   ┆           ┆ list[str] ┆ ---       ┆          │\n",
       "│           ┆           ┆           ┆           ┆   ┆           ┆           ┆ bool      ┆          │\n",
       "╞═══════════╪═══════════╪═══════════╪═══════════╪═══╪═══════════╪═══════════╪═══════════╪══════════╡\n",
       "│ 4868      ┆ Anna      ┆ Eide      ┆ eidea@wor ┆ … ┆ null      ┆ null      ┆ null      ┆ true     │\n",
       "│           ┆           ┆           ┆ ldkitchen ┆   ┆           ┆           ┆           ┆          │\n",
       "│           ┆           ┆           ┆ .com      ┆   ┆           ┆           ┆           ┆          │\n",
       "│ 18675480  ┆ Stephanie ┆ Meals     ┆ stephanie ┆ … ┆ [\"stephan ┆ [\"VALID\"] ┆ false     ┆ true     │\n",
       "│           ┆           ┆           ┆ .meals@pe ┆   ┆ ie.meals@ ┆           ┆           ┆          │\n",
       "│           ┆           ┆           ┆ psico.com ┆   ┆ generalmi ┆           ┆           ┆          │\n",
       "│           ┆           ┆           ┆           ┆   ┆ lls…      ┆           ┆           ┆          │\n",
       "│ 121604    ┆ Laszlo    ┆ Tikk      ┆ ltikk@mar ┆ … ┆ [\"ltikk@b ┆ [\"VALID\"] ┆ false     ┆ true     │\n",
       "│           ┆           ┆           ┆ zetti.com ┆   ┆ lommer.co ┆           ┆           ┆          │\n",
       "│           ┆           ┆           ┆           ┆   ┆ m\"]       ┆           ┆           ┆          │\n",
       "│ 24058980  ┆ Tammy     ┆ Butterwor ┆ tammy.but ┆ … ┆ [\"tbutter ┆ [\"CATCH_A ┆ false     ┆ true     │\n",
       "│           ┆           ┆ th        ┆ terworth@ ┆   ┆ worth@wel ┆ LL\"]      ┆           ┆          │\n",
       "│           ┆           ┆           ┆ pepsico.c ┆   ┆ chs.com\"] ┆           ┆           ┆          │\n",
       "│           ┆           ┆           ┆ om        ┆   ┆           ┆           ┆           ┆          │\n",
       "│ 515473566 ┆ Joel      ┆ White     ┆ joel.whit ┆ … ┆ [\"jwhite@ ┆ [\"VALID\"] ┆ false     ┆ true     │\n",
       "│ 4         ┆           ┆           ┆ e@gmcr.co ┆   ┆ thegenuin ┆           ┆           ┆          │\n",
       "│           ┆           ┆           ┆ m         ┆   ┆ ehospital ┆           ┆           ┆          │\n",
       "│           ┆           ┆           ┆           ┆   ┆ ity…      ┆           ┆           ┆          │\n",
       "│ …         ┆ …         ┆ …         ┆ …         ┆ … ┆ …         ┆ …         ┆ …         ┆ …        │\n",
       "│ 11241     ┆ Michelle  ┆ Thevil    ┆ mthevil@k ┆ … ┆ [\"michell ┆ [\"VALID\"] ┆ false     ┆ true     │\n",
       "│           ┆           ┆           ┆ ashi.com  ┆   ┆ e.mcdonal ┆           ┆           ┆          │\n",
       "│           ┆           ┆           ┆           ┆   ┆ d@salesfo ┆           ┆           ┆          │\n",
       "│           ┆           ┆           ┆           ┆   ┆ rce…      ┆           ┆           ┆          │\n",
       "│ 4075      ┆ Cindy     ┆ Orr       ┆ corr@aved ┆ … ┆ [\"corr@ce ┆ [\"VALID\"] ┆ false     ┆ true     │\n",
       "│           ┆           ┆           ┆ a.com     ┆   ┆ lebluxury ┆           ┆           ┆          │\n",
       "│           ┆           ┆           ┆           ┆   ┆ .com\"]    ┆           ┆           ┆          │\n",
       "│ 4076      ┆ C.J.      ┆ Brown     ┆ brown.c@p ┆ … ┆ [\"cj_brow ┆ [\"VALID\"] ┆ false     ┆ true     │\n",
       "│           ┆           ┆           ┆ g.com     ┆   ┆ n@campbel ┆           ┆           ┆          │\n",
       "│           ┆           ┆           ┆           ┆   ┆ ls.com\"]  ┆           ┆           ┆          │\n",
       "│ 121581    ┆ Christine ┆ Song      ┆ csong@est ┆ … ┆ [\"csong@e ┆ [\"VALID\"] ┆ false     ┆ true     │\n",
       "│           ┆           ┆           ┆ ee.com    ┆   ┆ lfcosmeti ┆           ┆           ┆          │\n",
       "│           ┆           ┆           ┆           ┆   ┆ cs.com\"]  ┆           ┆           ┆          │\n",
       "│ 4338      ┆ Martin    ┆ Michaelso ┆ martin.mi ┆ … ┆ [\"martin. ┆ [\"VALID\"] ┆ false     ┆ true     │\n",
       "│           ┆           ┆ n         ┆ chaelson@ ┆   ┆ michaelso ┆           ┆           ┆          │\n",
       "│           ┆           ┆           ┆ wachovia. ┆   ┆ n@wellsfa ┆           ┆           ┆          │\n",
       "│           ┆           ┆           ┆ com       ┆   ┆ rgo…      ┆           ┆           ┆          │\n",
       "└───────────┴───────────┴───────────┴───────────┴───┴───────────┴───────────┴───────────┴──────────┘"
      ]
     },
     "execution_count": 19,
     "metadata": {},
     "output_type": "execute_result"
    }
   ],
   "source": [
    "df_diff"
   ]
  },
  {
   "cell_type": "code",
   "execution_count": 35,
   "id": "1a7a4a0f",
   "metadata": {},
   "outputs": [
    {
     "data": {
      "text/html": [
       "<div><style>\n",
       ".dataframe > thead > tr,\n",
       ".dataframe > tbody > tr {\n",
       "  text-align: right;\n",
       "  white-space: pre-wrap;\n",
       "}\n",
       "</style>\n",
       "<small>shape: (101, 2)</small><table border=\"1\" class=\"dataframe\"><thead><tr><th>linkedInUrl</th><th>linkedInUrl_df2</th></tr><tr><td>str</td><td>str</td></tr></thead><tbody><tr><td>&quot;https://www.linkedin.com/in/an…</td><td>&quot;https://linkedin.com/in/aneide&quot;</td></tr><tr><td>&quot;https://www.linkedin.com/in/sm…</td><td>&quot;https://linkedin.com/in/smeals&quot;</td></tr><tr><td>&quot;https://www.linkedin.com/in/la…</td><td>&quot;https://linkedin.com/in/laszlo…</td></tr><tr><td>&quot;https://www.linkedin.com/in/ta…</td><td>&quot;https://linkedin.com/in/tammyb…</td></tr><tr><td>&quot;https://www.linkedin.com/in/jo…</td><td>&quot;https://linkedin.com/in/joelwh…</td></tr><tr><td>&hellip;</td><td>&hellip;</td></tr><tr><td>&quot;https://www.linkedin.com/in/ci…</td><td>&quot;https://linkedin.com/in/cindy-…</td></tr><tr><td>&quot;https://www.linkedin.com/in/cj…</td><td>&quot;https://linkedin.com/in/cjbrow…</td></tr><tr><td>&quot;https://www.linkedin.com/in/ch…</td><td>&quot;https://linkedin.com/in/christ…</td></tr><tr><td>&quot;https://www.linkedin.com/in/ma…</td><td>&quot;https://linkedin.com/in/martin…</td></tr><tr><td>&quot;https://www.linkedin.com/in/ma…</td><td>&quot;https://linkedin.com/in/mander…</td></tr></tbody></table></div>"
      ],
      "text/plain": [
       "shape: (101, 2)\n",
       "┌─────────────────────────────────┬─────────────────────────────────┐\n",
       "│ linkedInUrl                     ┆ linkedInUrl_df2                 │\n",
       "│ ---                             ┆ ---                             │\n",
       "│ str                             ┆ str                             │\n",
       "╞═════════════════════════════════╪═════════════════════════════════╡\n",
       "│ https://www.linkedin.com/in/an… ┆ https://linkedin.com/in/aneide  │\n",
       "│ https://www.linkedin.com/in/sm… ┆ https://linkedin.com/in/smeals  │\n",
       "│ https://www.linkedin.com/in/la… ┆ https://linkedin.com/in/laszlo… │\n",
       "│ https://www.linkedin.com/in/ta… ┆ https://linkedin.com/in/tammyb… │\n",
       "│ https://www.linkedin.com/in/jo… ┆ https://linkedin.com/in/joelwh… │\n",
       "│ …                               ┆ …                               │\n",
       "│ https://www.linkedin.com/in/ci… ┆ https://linkedin.com/in/cindy-… │\n",
       "│ https://www.linkedin.com/in/cj… ┆ https://linkedin.com/in/cjbrow… │\n",
       "│ https://www.linkedin.com/in/ch… ┆ https://linkedin.com/in/christ… │\n",
       "│ https://www.linkedin.com/in/ma… ┆ https://linkedin.com/in/martin… │\n",
       "│ https://www.linkedin.com/in/ma… ┆ https://linkedin.com/in/mander… │\n",
       "└─────────────────────────────────┴─────────────────────────────────┘"
      ]
     },
     "execution_count": 35,
     "metadata": {},
     "output_type": "execute_result"
    }
   ],
   "source": [
    "df5 = df4.select(\"linkedInUrl\", \"linkedInUrl_df2\")\n",
    "df5 = pl.concat([df5, pl.DataFrame({\"linkedInUrl\": [\"https://www.linkedin.com/in/manderscience/\"], \"linkedInUrl_df2\": [\"https://linkedin.com/in/manderscience\"]})])\n",
    "df5"
   ]
  },
  {
   "cell_type": "code",
   "execution_count": 36,
   "id": "74663bae",
   "metadata": {},
   "outputs": [
    {
     "data": {
      "text/html": [
       "<div><style>\n",
       ".dataframe > thead > tr,\n",
       ".dataframe > tbody > tr {\n",
       "  text-align: right;\n",
       "  white-space: pre-wrap;\n",
       "}\n",
       "</style>\n",
       "<small>shape: (101, 2)</small><table border=\"1\" class=\"dataframe\"><thead><tr><th>linkedInUrl</th><th>linkedInUrl_df2</th></tr><tr><td>str</td><td>str</td></tr></thead><tbody><tr><td>&quot;aneide&quot;</td><td>&quot;aneide&quot;</td></tr><tr><td>&quot;smeals&quot;</td><td>&quot;smeals&quot;</td></tr><tr><td>&quot;laszlotikk98121&quot;</td><td>&quot;laszlotikk98121&quot;</td></tr><tr><td>&quot;tammybutterworth&quot;</td><td>&quot;tammybutterworth&quot;</td></tr><tr><td>&quot;joelwhite10&quot;</td><td>&quot;joelwhite10&quot;</td></tr><tr><td>&hellip;</td><td>&hellip;</td></tr><tr><td>&quot;cindy&quot;</td><td>&quot;cindy&quot;</td></tr><tr><td>&quot;cjbrown1&quot;</td><td>&quot;cjbrown1&quot;</td></tr><tr><td>&quot;christinehsong&quot;</td><td>&quot;christinehsong&quot;</td></tr><tr><td>&quot;martin&quot;</td><td>&quot;martin&quot;</td></tr><tr><td>&quot;manderscience&quot;</td><td>&quot;manderscience&quot;</td></tr></tbody></table></div>"
      ],
      "text/plain": [
       "shape: (101, 2)\n",
       "┌──────────────────┬──────────────────┐\n",
       "│ linkedInUrl      ┆ linkedInUrl_df2  │\n",
       "│ ---              ┆ ---              │\n",
       "│ str              ┆ str              │\n",
       "╞══════════════════╪══════════════════╡\n",
       "│ aneide           ┆ aneide           │\n",
       "│ smeals           ┆ smeals           │\n",
       "│ laszlotikk98121  ┆ laszlotikk98121  │\n",
       "│ tammybutterworth ┆ tammybutterworth │\n",
       "│ joelwhite10      ┆ joelwhite10      │\n",
       "│ …                ┆ …                │\n",
       "│ cindy            ┆ cindy            │\n",
       "│ cjbrown1         ┆ cjbrown1         │\n",
       "│ christinehsong   ┆ christinehsong   │\n",
       "│ martin           ┆ martin           │\n",
       "│ manderscience    ┆ manderscience    │\n",
       "└──────────────────┴──────────────────┘"
      ]
     },
     "execution_count": 36,
     "metadata": {},
     "output_type": "execute_result"
    }
   ],
   "source": [
    "df5.select(pl.col(\"linkedInUrl\").str.extract(\"/in/(\\w+)/{0,1}\"), pl.col(\"linkedInUrl_df2\").str.extract(\"/in/(\\w+)/{0,1}\"))"
   ]
  },
  {
   "cell_type": "code",
   "execution_count": null,
   "id": "a4347f5a",
   "metadata": {},
   "outputs": [],
   "source": []
  }
 ],
 "metadata": {
  "kernelspec": {
   "display_name": ".venv",
   "language": "python",
   "name": "python3"
  },
  "language_info": {
   "codemirror_mode": {
    "name": "ipython",
    "version": 3
   },
   "file_extension": ".py",
   "mimetype": "text/x-python",
   "name": "python",
   "nbconvert_exporter": "python",
   "pygments_lexer": "ipython3",
   "version": "3.11.11"
  }
 },
 "nbformat": 4,
 "nbformat_minor": 5
}
